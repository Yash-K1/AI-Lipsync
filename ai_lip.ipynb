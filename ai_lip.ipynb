{
  "nbformat": 4,
  "nbformat_minor": 0,
  "metadata": {
    "colab": {
      "provenance": [],
      "gpuType": "T4",
      "authorship_tag": "ABX9TyMoG8vyWZydoh8RkpiXC3tw",
      "include_colab_link": true
    },
    "kernelspec": {
      "name": "python3",
      "display_name": "Python 3"
    },
    "language_info": {
      "name": "python"
    },
    "accelerator": "GPU"
  },
  "cells": [
    {
      "cell_type": "markdown",
      "metadata": {
        "id": "view-in-github",
        "colab_type": "text"
      },
      "source": [
        "<a href=\"https://colab.research.google.com/github/Yash-K1/AI-Lipsync/blob/main/ai_lip.ipynb\" target=\"_parent\"><img src=\"https://colab.research.google.com/assets/colab-badge.svg\" alt=\"Open In Colab\"/></a>"
      ]
    },
    {
      "cell_type": "markdown",
      "source": [
        "# **Prerequisite for Colab**\n",
        "\n"
      ],
      "metadata": {
        "id": "8z_wkppJesvJ"
      }
    },
    {
      "cell_type": "markdown",
      "source": [
        "## Before Starting, we change the runtime type to T4 GPU from the option at the top left.\n",
        "### Go to Runtime -> Change runtime type -> Select \"T4 GPU\" under Hardware accelerator and Save."
      ],
      "metadata": {
        "id": "l92OsspLexpo"
      }
    },
    {
      "cell_type": "markdown",
      "source": [
        "![image.png](data:image/png;base64,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)"
      ],
      "metadata": {
        "id": "8Inok545hJ2f"
      }
    },
    {
      "cell_type": "markdown",
      "source": [
        "-----------------------------"
      ],
      "metadata": {
        "id": "CkZtZAwJhrn0"
      }
    },
    {
      "cell_type": "markdown",
      "source": [
        "# **Run the cells below**"
      ],
      "metadata": {
        "id": "-JhqIbWWhXCG"
      }
    },
    {
      "cell_type": "code",
      "execution_count": 1,
      "metadata": {
        "colab": {
          "base_uri": "https://localhost:8080/"
        },
        "id": "v9_5Fj0nXSF5",
        "outputId": "9b5de68e-ef63-4916-e1e7-f2b413c47bf3"
      },
      "outputs": [
        {
          "output_type": "stream",
          "name": "stdout",
          "text": [
            "Reading package lists... Done\n",
            "Building dependency tree... Done\n",
            "Reading state information... Done\n",
            "The following additional packages will be installed:\n",
            "  libpython3.8-minimal libpython3.8-stdlib mailcap mime-support\n",
            "  python3.8-minimal\n",
            "Suggested packages:\n",
            "  python3.8-venv binfmt-support\n",
            "The following NEW packages will be installed:\n",
            "  libpython3.8-minimal libpython3.8-stdlib mailcap mime-support python3.8\n",
            "  python3.8-minimal\n",
            "0 upgraded, 6 newly installed, 0 to remove and 18 not upgraded.\n",
            "Need to get 5,098 kB of archives.\n",
            "After this operation, 18.9 MB of additional disk space will be used.\n",
            "Get:1 http://archive.ubuntu.com/ubuntu jammy/main amd64 mailcap all 3.70+nmu1ubuntu1 [23.8 kB]\n",
            "Get:2 http://archive.ubuntu.com/ubuntu jammy/main amd64 mime-support all 3.66 [3,696 B]\n",
            "Get:3 https://ppa.launchpadcontent.net/deadsnakes/ppa/ubuntu jammy/main amd64 libpython3.8-minimal amd64 3.8.18-1+jammy1 [794 kB]\n",
            "Get:4 https://ppa.launchpadcontent.net/deadsnakes/ppa/ubuntu jammy/main amd64 python3.8-minimal amd64 3.8.18-1+jammy1 [2,024 kB]\n",
            "Get:5 https://ppa.launchpadcontent.net/deadsnakes/ppa/ubuntu jammy/main amd64 libpython3.8-stdlib amd64 3.8.18-1+jammy1 [1,815 kB]\n",
            "Get:6 https://ppa.launchpadcontent.net/deadsnakes/ppa/ubuntu jammy/main amd64 python3.8 amd64 3.8.18-1+jammy1 [438 kB]\n",
            "Fetched 5,098 kB in 6s (822 kB/s)\n",
            "debconf: unable to initialize frontend: Dialog\n",
            "debconf: (No usable dialog-like program is installed, so the dialog based frontend cannot be used. at /usr/share/perl5/Debconf/FrontEnd/Dialog.pm line 78, <> line 6.)\n",
            "debconf: falling back to frontend: Readline\n",
            "debconf: unable to initialize frontend: Readline\n",
            "debconf: (This frontend requires a controlling tty.)\n",
            "debconf: falling back to frontend: Teletype\n",
            "dpkg-preconfigure: unable to re-open stdin: \n",
            "Selecting previously unselected package libpython3.8-minimal:amd64.\n",
            "(Reading database ... 120895 files and directories currently installed.)\n",
            "Preparing to unpack .../0-libpython3.8-minimal_3.8.18-1+jammy1_amd64.deb ...\n",
            "Unpacking libpython3.8-minimal:amd64 (3.8.18-1+jammy1) ...\n",
            "Selecting previously unselected package python3.8-minimal.\n",
            "Preparing to unpack .../1-python3.8-minimal_3.8.18-1+jammy1_amd64.deb ...\n",
            "Unpacking python3.8-minimal (3.8.18-1+jammy1) ...\n",
            "Selecting previously unselected package mailcap.\n",
            "Preparing to unpack .../2-mailcap_3.70+nmu1ubuntu1_all.deb ...\n",
            "Unpacking mailcap (3.70+nmu1ubuntu1) ...\n",
            "Selecting previously unselected package mime-support.\n",
            "Preparing to unpack .../3-mime-support_3.66_all.deb ...\n",
            "Unpacking mime-support (3.66) ...\n",
            "Selecting previously unselected package libpython3.8-stdlib:amd64.\n",
            "Preparing to unpack .../4-libpython3.8-stdlib_3.8.18-1+jammy1_amd64.deb ...\n",
            "Unpacking libpython3.8-stdlib:amd64 (3.8.18-1+jammy1) ...\n",
            "Selecting previously unselected package python3.8.\n",
            "Preparing to unpack .../5-python3.8_3.8.18-1+jammy1_amd64.deb ...\n",
            "Unpacking python3.8 (3.8.18-1+jammy1) ...\n",
            "Setting up libpython3.8-minimal:amd64 (3.8.18-1+jammy1) ...\n",
            "Setting up python3.8-minimal (3.8.18-1+jammy1) ...\n",
            "Setting up mailcap (3.70+nmu1ubuntu1) ...\n",
            "Setting up mime-support (3.66) ...\n",
            "Setting up libpython3.8-stdlib:amd64 (3.8.18-1+jammy1) ...\n",
            "Setting up python3.8 (3.8.18-1+jammy1) ...\n",
            "Processing triggers for man-db (2.10.2-1) ...\n"
          ]
        }
      ],
      "source": [
        "!sudo apt-get install python3.8"
      ]
    },
    {
      "cell_type": "code",
      "source": [
        "import sys\n",
        "\n",
        "# Check the current Python version\n",
        "current_version = sys.version_info\n",
        "\n",
        "# Set the Python version to 3.8\n",
        "sys.version_info = (3, 8, 0, 'final', 0)\n",
        "\n",
        "# Print the new Python version\n",
        "print(sys.version_info)"
      ],
      "metadata": {
        "colab": {
          "base_uri": "https://localhost:8080/"
        },
        "id": "yWhTVi3GXZwG",
        "outputId": "1c7840d0-2b9f-4892-c3bf-358b628c7707"
      },
      "execution_count": 2,
      "outputs": [
        {
          "output_type": "stream",
          "name": "stdout",
          "text": [
            "(3, 8, 0, 'final', 0)\n"
          ]
        }
      ]
    },
    {
      "cell_type": "code",
      "source": [
        "!sudo update-alternatives --install /usr/bin/python3 python3 /usr/bin/python3.8 1\n"
      ],
      "metadata": {
        "colab": {
          "base_uri": "https://localhost:8080/"
        },
        "id": "3vCgef7eXZs1",
        "outputId": "55221a4c-ac27-413c-ca4f-1141b13fc582"
      },
      "execution_count": 3,
      "outputs": [
        {
          "output_type": "stream",
          "name": "stdout",
          "text": [
            "update-alternatives: using /usr/bin/python3.8 to provide /usr/bin/python3 (python3) in auto mode\n"
          ]
        }
      ]
    },
    {
      "cell_type": "code",
      "source": [
        "!python --version\n"
      ],
      "metadata": {
        "colab": {
          "base_uri": "https://localhost:8080/"
        },
        "id": "C9XLBjrnXZq4",
        "outputId": "e2889ecb-e24c-4e3b-cdbf-45a7a9bd6255"
      },
      "execution_count": 4,
      "outputs": [
        {
          "output_type": "stream",
          "name": "stdout",
          "text": [
            "Python 3.8.18\n"
          ]
        }
      ]
    },
    {
      "cell_type": "code",
      "source": [
        "!apt-get install python3-pip\n"
      ],
      "metadata": {
        "colab": {
          "base_uri": "https://localhost:8080/"
        },
        "id": "cqwFWSPdXZpD",
        "outputId": "d5cc69b6-56cc-493f-89b6-703d586f227e"
      },
      "execution_count": 5,
      "outputs": [
        {
          "output_type": "stream",
          "name": "stdout",
          "text": [
            "Reading package lists... Done\n",
            "Building dependency tree... Done\n",
            "Reading state information... Done\n",
            "The following additional packages will be installed:\n",
            "  python3-setuptools python3-wheel\n",
            "Suggested packages:\n",
            "  python-setuptools-doc\n",
            "The following NEW packages will be installed:\n",
            "  python3-pip python3-setuptools python3-wheel\n",
            "0 upgraded, 3 newly installed, 0 to remove and 18 not upgraded.\n",
            "Need to get 1,677 kB of archives.\n",
            "After this operation, 8,965 kB of additional disk space will be used.\n",
            "Get:1 http://archive.ubuntu.com/ubuntu jammy-updates/main amd64 python3-setuptools all 59.6.0-1.2ubuntu0.22.04.1 [339 kB]\n",
            "Get:2 http://archive.ubuntu.com/ubuntu jammy-updates/universe amd64 python3-wheel all 0.37.1-2ubuntu0.22.04.1 [32.0 kB]\n",
            "Get:3 http://archive.ubuntu.com/ubuntu jammy-updates/universe amd64 python3-pip all 22.0.2+dfsg-1ubuntu0.3 [1,305 kB]\n",
            "Fetched 1,677 kB in 1s (1,827 kB/s)\n",
            "Selecting previously unselected package python3-setuptools.\n",
            "(Reading database ... 121546 files and directories currently installed.)\n",
            "Preparing to unpack .../python3-setuptools_59.6.0-1.2ubuntu0.22.04.1_all.deb ...\n",
            "Unpacking python3-setuptools (59.6.0-1.2ubuntu0.22.04.1) ...\n",
            "Selecting previously unselected package python3-wheel.\n",
            "Preparing to unpack .../python3-wheel_0.37.1-2ubuntu0.22.04.1_all.deb ...\n",
            "Unpacking python3-wheel (0.37.1-2ubuntu0.22.04.1) ...\n",
            "Selecting previously unselected package python3-pip.\n",
            "Preparing to unpack .../python3-pip_22.0.2+dfsg-1ubuntu0.3_all.deb ...\n",
            "Unpacking python3-pip (22.0.2+dfsg-1ubuntu0.3) ...\n",
            "Setting up python3-setuptools (59.6.0-1.2ubuntu0.22.04.1) ...\n",
            "Setting up python3-wheel (0.37.1-2ubuntu0.22.04.1) ...\n",
            "Setting up python3-pip (22.0.2+dfsg-1ubuntu0.3) ...\n",
            "Processing triggers for man-db (2.10.2-1) ...\n"
          ]
        }
      ]
    },
    {
      "cell_type": "code",
      "source": [
        "!sudo apt-get install python3.8-distutils\n"
      ],
      "metadata": {
        "colab": {
          "base_uri": "https://localhost:8080/"
        },
        "id": "_xwYsxIQXZmW",
        "outputId": "1e682259-fb56-485b-beb8-168424cf1f54"
      },
      "execution_count": 6,
      "outputs": [
        {
          "output_type": "stream",
          "name": "stdout",
          "text": [
            "Reading package lists... Done\n",
            "Building dependency tree... Done\n",
            "Reading state information... Done\n",
            "The following additional packages will be installed:\n",
            "  python3.8-lib2to3\n",
            "The following NEW packages will be installed:\n",
            "  python3.8-distutils python3.8-lib2to3\n",
            "0 upgraded, 2 newly installed, 0 to remove and 18 not upgraded.\n",
            "Need to get 319 kB of archives.\n",
            "After this operation, 1,237 kB of additional disk space will be used.\n",
            "Get:1 https://ppa.launchpadcontent.net/deadsnakes/ppa/ubuntu jammy/main amd64 python3.8-lib2to3 all 3.8.18-1+jammy1 [126 kB]\n",
            "Get:2 https://ppa.launchpadcontent.net/deadsnakes/ppa/ubuntu jammy/main amd64 python3.8-distutils all 3.8.18-1+jammy1 [193 kB]\n",
            "Fetched 319 kB in 2s (153 kB/s)\n",
            "debconf: unable to initialize frontend: Dialog\n",
            "debconf: (No usable dialog-like program is installed, so the dialog based frontend cannot be used. at /usr/share/perl5/Debconf/FrontEnd/Dialog.pm line 78, <> line 2.)\n",
            "debconf: falling back to frontend: Readline\n",
            "debconf: unable to initialize frontend: Readline\n",
            "debconf: (This frontend requires a controlling tty.)\n",
            "debconf: falling back to frontend: Teletype\n",
            "dpkg-preconfigure: unable to re-open stdin: \n",
            "Selecting previously unselected package python3.8-lib2to3.\n",
            "(Reading database ... 122408 files and directories currently installed.)\n",
            "Preparing to unpack .../python3.8-lib2to3_3.8.18-1+jammy1_all.deb ...\n",
            "Unpacking python3.8-lib2to3 (3.8.18-1+jammy1) ...\n",
            "Selecting previously unselected package python3.8-distutils.\n",
            "Preparing to unpack .../python3.8-distutils_3.8.18-1+jammy1_all.deb ...\n",
            "Unpacking python3.8-distutils (3.8.18-1+jammy1) ...\n",
            "Setting up python3.8-lib2to3 (3.8.18-1+jammy1) ...\n",
            "Setting up python3.8-distutils (3.8.18-1+jammy1) ...\n"
          ]
        }
      ]
    },
    {
      "cell_type": "markdown",
      "source": [
        "----------"
      ],
      "metadata": {
        "id": "nlSGfp04hor_"
      }
    },
    {
      "cell_type": "markdown",
      "source": [
        "## **Cloning my Github repository**"
      ],
      "metadata": {
        "id": "dd3x_vlmhgLA"
      }
    },
    {
      "cell_type": "code",
      "source": [
        "!git clone https://github.com/Yash-K1/AI-Lipsync\n"
      ],
      "metadata": {
        "colab": {
          "base_uri": "https://localhost:8080/"
        },
        "id": "-ho-lwq8YFDm",
        "outputId": "920ff733-4bb0-4978-c9a3-32da60863635"
      },
      "execution_count": 8,
      "outputs": [
        {
          "output_type": "stream",
          "name": "stdout",
          "text": [
            "Cloning into 'AI-Lipsync'...\n",
            "remote: Enumerating objects: 136, done.\u001b[K\n",
            "remote: Counting objects: 100% (63/63), done.\u001b[K\n",
            "remote: Compressing objects: 100% (63/63), done.\u001b[K\n",
            "remote: Total 136 (delta 35), reused 0 (delta 0), pack-reused 73\u001b[K\n",
            "Receiving objects: 100% (136/136), 25.05 MiB | 17.95 MiB/s, done.\n",
            "Resolving deltas: 100% (47/47), done.\n"
          ]
        }
      ]
    },
    {
      "cell_type": "markdown",
      "source": [
        "## Loading the model"
      ],
      "metadata": {
        "id": "Q7yfmfC4hxIR"
      }
    },
    {
      "cell_type": "code",
      "source": [
        "!wget \"https://www.adrianbulat.com/downloads/python-fan/s3fd-619a316812.pth\" -O \"AI-Lipsync/face_detection/detection/sfd/s3fd.pth\"\n"
      ],
      "metadata": {
        "colab": {
          "base_uri": "https://localhost:8080/"
        },
        "id": "8Mmfs-1UYE9f",
        "outputId": "4e4fbf23-35aa-4a44-d836-2ea1aa3cd58e"
      },
      "execution_count": 9,
      "outputs": [
        {
          "output_type": "stream",
          "name": "stdout",
          "text": [
            "--2023-09-22 05:42:06--  https://www.adrianbulat.com/downloads/python-fan/s3fd-619a316812.pth\n",
            "Resolving www.adrianbulat.com (www.adrianbulat.com)... 45.136.29.207\n",
            "Connecting to www.adrianbulat.com (www.adrianbulat.com)|45.136.29.207|:443... connected.\n",
            "HTTP request sent, awaiting response... 200 OK\n",
            "Length: 89843225 (86M) [application/octet-stream]\n",
            "Saving to: ‘AI-Lipsync/face_detection/detection/sfd/s3fd.pth’\n",
            "\n",
            "AI-Lipsync/face_det 100%[===================>]  85.68M  20.5MB/s    in 5.0s    \n",
            "\n",
            "2023-09-22 05:42:12 (17.1 MB/s) - ‘AI-Lipsync/face_detection/detection/sfd/s3fd.pth’ saved [89843225/89843225]\n",
            "\n"
          ]
        }
      ]
    },
    {
      "cell_type": "markdown",
      "source": [
        "## Installing required libraries.\n"
      ],
      "metadata": {
        "id": "aPq9gfZeh6YO"
      }
    },
    {
      "cell_type": "code",
      "source": [
        "!cd AI-Lipsync && pip install -r requirements.txt\n"
      ],
      "metadata": {
        "colab": {
          "base_uri": "https://localhost:8080/"
        },
        "id": "yF4RdAjPYE7t",
        "outputId": "9e5854af-6dd5-477b-9147-970207b006f5"
      },
      "execution_count": 10,
      "outputs": [
        {
          "output_type": "stream",
          "name": "stdout",
          "text": [
            "Collecting numpy==1.21.6\n",
            "  Downloading numpy-1.21.6-cp38-cp38-manylinux_2_12_x86_64.manylinux2010_x86_64.whl (15.7 MB)\n",
            "\u001b[2K     \u001b[90m━━━━━━━━━━━━━━━━━━━━━━━━━━━━━━━━━━━━━━━━\u001b[0m \u001b[32m15.7/15.7 MB\u001b[0m \u001b[31m27.1 MB/s\u001b[0m eta \u001b[36m0:00:00\u001b[0m\n",
            "\u001b[?25hCollecting opencv-contrib-python>=4.2.0.34\n",
            "  Downloading opencv_contrib_python-4.8.0.76-cp37-abi3-manylinux_2_17_x86_64.manylinux2014_x86_64.whl (67.8 MB)\n",
            "\u001b[2K     \u001b[90m━━━━━━━━━━━━━━━━━━━━━━━━━━━━━━━━━━━━━━━━\u001b[0m \u001b[32m67.8/67.8 MB\u001b[0m \u001b[31m9.0 MB/s\u001b[0m eta \u001b[36m0:00:00\u001b[0m\n",
            "\u001b[?25hCollecting opencv-python==3.4.18.65\n",
            "  Downloading opencv_python-3.4.18.65-cp36-abi3-manylinux_2_17_x86_64.manylinux2014_x86_64.whl (58.4 MB)\n",
            "\u001b[2K     \u001b[90m━━━━━━━━━━━━━━━━━━━━━━━━━━━━━━━━━━━━━━━━\u001b[0m \u001b[32m58.4/58.4 MB\u001b[0m \u001b[31m8.7 MB/s\u001b[0m eta \u001b[36m0:00:00\u001b[0m\n",
            "\u001b[?25hCollecting torch==1.4.0\n",
            "  Downloading torch-1.4.0-cp38-cp38-manylinux1_x86_64.whl (753.4 MB)\n",
            "\u001b[2K     \u001b[90m━━━━━━━━━━━━━━━━━━━━━━━━━━━━━━━━━━━━━━━\u001b[0m \u001b[32m753.4/753.4 MB\u001b[0m \u001b[31m2.0 MB/s\u001b[0m eta \u001b[36m0:00:00\u001b[0m\n",
            "\u001b[?25hCollecting torchvision==0.2.2\n",
            "  Downloading torchvision-0.2.2-py2.py3-none-any.whl (64 kB)\n",
            "\u001b[2K     \u001b[90m━━━━━━━━━━━━━━━━━━━━━━━━━━━━━━━━━━━━━━━━\u001b[0m \u001b[32m64.3/64.3 KB\u001b[0m \u001b[31m8.9 MB/s\u001b[0m eta \u001b[36m0:00:00\u001b[0m\n",
            "\u001b[?25hCollecting tqdm==4.19.9\n",
            "  Downloading tqdm-4.19.9-py2.py3-none-any.whl (52 kB)\n",
            "\u001b[2K     \u001b[90m━━━━━━━━━━━━━━━━━━━━━━━━━━━━━━━━━━━━━━━━\u001b[0m \u001b[32m52.7/52.7 KB\u001b[0m \u001b[31m7.0 MB/s\u001b[0m eta \u001b[36m0:00:00\u001b[0m\n",
            "\u001b[?25hCollecting numba==0.55\n",
            "  Downloading numba-0.55.0-cp38-cp38-manylinux2014_x86_64.manylinux_2_17_x86_64.whl (3.4 MB)\n",
            "\u001b[2K     \u001b[90m━━━━━━━━━━━━━━━━━━━━━━━━━━━━━━━━━━━━━━━━\u001b[0m \u001b[32m3.4/3.4 MB\u001b[0m \u001b[31m18.6 MB/s\u001b[0m eta \u001b[36m0:00:00\u001b[0m\n",
            "\u001b[?25hCollecting librosa==0.9.1\n",
            "  Downloading librosa-0.9.1-py3-none-any.whl (213 kB)\n",
            "\u001b[2K     \u001b[90m━━━━━━━━━━━━━━━━━━━━━━━━━━━━━━━━━━━━━━\u001b[0m \u001b[32m213.1/213.1 KB\u001b[0m \u001b[31m23.5 MB/s\u001b[0m eta \u001b[36m0:00:00\u001b[0m\n",
            "\u001b[?25hCollecting resampy==0.3.1\n",
            "  Downloading resampy-0.3.1-py3-none-any.whl (3.1 MB)\n",
            "\u001b[2K     \u001b[90m━━━━━━━━━━━━━━━━━━━━━━━━━━━━━━━━━━━━━━━━\u001b[0m \u001b[32m3.1/3.1 MB\u001b[0m \u001b[31m64.3 MB/s\u001b[0m eta \u001b[36m0:00:00\u001b[0m\n",
            "\u001b[?25hCollecting pillow>=4.1.1\n",
            "  Downloading Pillow-10.0.1-cp38-cp38-manylinux_2_28_x86_64.whl (3.6 MB)\n",
            "\u001b[2K     \u001b[90m━━━━━━━━━━━━━━━━━━━━━━━━━━━━━━━━━━━━━━━━\u001b[0m \u001b[32m3.6/3.6 MB\u001b[0m \u001b[31m75.6 MB/s\u001b[0m eta \u001b[36m0:00:00\u001b[0m\n",
            "\u001b[?25hRequirement already satisfied: six in /usr/lib/python3/dist-packages (from torchvision==0.2.2->-r requirements.txt (line 5)) (1.16.0)\n",
            "Collecting llvmlite<0.39,>=0.38.0rc1\n",
            "  Downloading llvmlite-0.38.1-cp38-cp38-manylinux_2_17_x86_64.manylinux2014_x86_64.whl (34.5 MB)\n",
            "\u001b[2K     \u001b[90m━━━━━━━━━━━━━━━━━━━━━━━━━━━━━━━━━━━━━━━━\u001b[0m \u001b[32m34.5/34.5 MB\u001b[0m \u001b[31m30.5 MB/s\u001b[0m eta \u001b[36m0:00:00\u001b[0m\n",
            "\u001b[?25hRequirement already satisfied: setuptools in /usr/lib/python3/dist-packages (from numba==0.55->-r requirements.txt (line 7)) (59.6.0)\n",
            "Collecting packaging>=20.0\n",
            "  Downloading packaging-23.1-py3-none-any.whl (48 kB)\n",
            "\u001b[2K     \u001b[90m━━━━━━━━━━━━━━━━━━━━━━━━━━━━━━━━━━━━━━━━\u001b[0m \u001b[32m48.9/48.9 KB\u001b[0m \u001b[31m4.1 MB/s\u001b[0m eta \u001b[36m0:00:00\u001b[0m\n",
            "\u001b[?25hCollecting audioread>=2.1.5\n",
            "  Downloading audioread-3.0.0.tar.gz (377 kB)\n",
            "\u001b[2K     \u001b[90m━━━━━━━━━━━━━━━━━━━━━━━━━━━━━━━━━━━━━━\u001b[0m \u001b[32m377.0/377.0 KB\u001b[0m \u001b[31m35.4 MB/s\u001b[0m eta \u001b[36m0:00:00\u001b[0m\n",
            "\u001b[?25h  Preparing metadata (setup.py) ... \u001b[?25l\u001b[?25hdone\n",
            "Collecting decorator>=4.0.10\n",
            "  Downloading decorator-5.1.1-py3-none-any.whl (9.1 kB)\n",
            "Collecting soundfile>=0.10.2\n",
            "  Downloading soundfile-0.12.1-py2.py3-none-manylinux_2_31_x86_64.whl (1.2 MB)\n",
            "\u001b[2K     \u001b[90m━━━━━━━━━━━━━━━━━━━━━━━━━━━━━━━━━━━━━━━━\u001b[0m \u001b[32m1.2/1.2 MB\u001b[0m \u001b[31m56.7 MB/s\u001b[0m eta \u001b[36m0:00:00\u001b[0m\n",
            "\u001b[?25hCollecting joblib>=0.14\n",
            "  Downloading joblib-1.3.2-py3-none-any.whl (302 kB)\n",
            "\u001b[2K     \u001b[90m━━━━━━━━━━━━━━━━━━━━━━━━━━━━━━━━━━━━━━\u001b[0m \u001b[32m302.2/302.2 KB\u001b[0m \u001b[31m30.9 MB/s\u001b[0m eta \u001b[36m0:00:00\u001b[0m\n",
            "\u001b[?25hCollecting scikit-learn>=0.19.1\n",
            "  Downloading scikit_learn-1.3.1-cp38-cp38-manylinux_2_17_x86_64.manylinux2014_x86_64.whl (11.1 MB)\n",
            "\u001b[2K     \u001b[90m━━━━━━━━━━━━━━━━━━━━━━━━━━━━━━━━━━━━━━━━\u001b[0m \u001b[32m11.1/11.1 MB\u001b[0m \u001b[31m63.3 MB/s\u001b[0m eta \u001b[36m0:00:00\u001b[0m\n",
            "\u001b[?25hCollecting scipy>=1.2.0\n",
            "  Downloading scipy-1.10.1-cp38-cp38-manylinux_2_17_x86_64.manylinux2014_x86_64.whl (34.5 MB)\n",
            "\u001b[2K     \u001b[90m━━━━━━━━━━━━━━━━━━━━━━━━━━━━━━━━━━━━━━━━\u001b[0m \u001b[32m34.5/34.5 MB\u001b[0m \u001b[31m11.9 MB/s\u001b[0m eta \u001b[36m0:00:00\u001b[0m\n",
            "\u001b[?25hCollecting pooch>=1.0\n",
            "  Downloading pooch-1.7.0-py3-none-any.whl (60 kB)\n",
            "\u001b[2K     \u001b[90m━━━━━━━━━━━━━━━━━━━━━━━━━━━━━━━━━━━━━━━━\u001b[0m \u001b[32m60.9/60.9 KB\u001b[0m \u001b[31m7.9 MB/s\u001b[0m eta \u001b[36m0:00:00\u001b[0m\n",
            "\u001b[?25hCollecting platformdirs>=2.5.0\n",
            "  Downloading platformdirs-3.10.0-py3-none-any.whl (17 kB)\n",
            "Collecting requests>=2.19.0\n",
            "  Downloading requests-2.31.0-py3-none-any.whl (62 kB)\n",
            "\u001b[2K     \u001b[90m━━━━━━━━━━━━━━━━━━━━━━━━━━━━━━━━━━━━━━━━\u001b[0m \u001b[32m62.6/62.6 KB\u001b[0m \u001b[31m8.5 MB/s\u001b[0m eta \u001b[36m0:00:00\u001b[0m\n",
            "\u001b[?25hCollecting threadpoolctl>=2.0.0\n",
            "  Downloading threadpoolctl-3.2.0-py3-none-any.whl (15 kB)\n",
            "Collecting cffi>=1.0\n",
            "  Downloading cffi-1.15.1-cp38-cp38-manylinux_2_17_x86_64.manylinux2014_x86_64.whl (442 kB)\n",
            "\u001b[2K     \u001b[90m━━━━━━━━━━━━━━━━━━━━━━━━━━━━━━━━━━━━━━\u001b[0m \u001b[32m442.7/442.7 KB\u001b[0m \u001b[31m46.9 MB/s\u001b[0m eta \u001b[36m0:00:00\u001b[0m\n",
            "\u001b[?25hCollecting pycparser\n",
            "  Downloading pycparser-2.21-py2.py3-none-any.whl (118 kB)\n",
            "\u001b[2K     \u001b[90m━━━━━━━━━━━━━━━━━━━━━━━━━━━━━━━━━━━━━━\u001b[0m \u001b[32m118.7/118.7 KB\u001b[0m \u001b[31m15.6 MB/s\u001b[0m eta \u001b[36m0:00:00\u001b[0m\n",
            "\u001b[?25hCollecting charset-normalizer<4,>=2\n",
            "  Downloading charset_normalizer-3.2.0-cp38-cp38-manylinux_2_17_x86_64.manylinux2014_x86_64.whl (199 kB)\n",
            "\u001b[2K     \u001b[90m━━━━━━━━━━━━━━━━━━━━━━━━━━━━━━━━━━━━━━\u001b[0m \u001b[32m199.1/199.1 KB\u001b[0m \u001b[31m22.4 MB/s\u001b[0m eta \u001b[36m0:00:00\u001b[0m\n",
            "\u001b[?25hCollecting idna<4,>=2.5\n",
            "  Downloading idna-3.4-py3-none-any.whl (61 kB)\n",
            "\u001b[2K     \u001b[90m━━━━━━━━━━━━━━━━━━━━━━━━━━━━━━━━━━━━━━━━\u001b[0m \u001b[32m61.5/61.5 KB\u001b[0m \u001b[31m8.4 MB/s\u001b[0m eta \u001b[36m0:00:00\u001b[0m\n",
            "\u001b[?25hCollecting urllib3<3,>=1.21.1\n",
            "  Downloading urllib3-2.0.5-py3-none-any.whl (123 kB)\n",
            "\u001b[2K     \u001b[90m━━━━━━━━━━━━━━━━━━━━━━━━━━━━━━━━━━━━━━\u001b[0m \u001b[32m123.8/123.8 KB\u001b[0m \u001b[31m15.9 MB/s\u001b[0m eta \u001b[36m0:00:00\u001b[0m\n",
            "\u001b[?25hCollecting certifi>=2017.4.17\n",
            "  Downloading certifi-2023.7.22-py3-none-any.whl (158 kB)\n",
            "\u001b[2K     \u001b[90m━━━━━━━━━━━━━━━━━━━━━━━━━━━━━━━━━━━━━━\u001b[0m \u001b[32m158.3/158.3 KB\u001b[0m \u001b[31m20.0 MB/s\u001b[0m eta \u001b[36m0:00:00\u001b[0m\n",
            "\u001b[?25h\u001b[33mWARNING: The candidate selected for download or install is a yanked version: 'torchvision' candidate (version 0.2.2 at https://files.pythonhosted.org/packages/ce/a1/66d72a2fe580a9f0fcbaaa5b976911fbbde9dce9b330ba12791997b856e9/torchvision-0.2.2-py2.py3-none-any.whl#sha256=686cda0037bc904a35593a1394eaf7337edd141b78dc2eadc4667abb6fd569b5 (from https://pypi.org/simple/torchvision/))\n",
            "Reason for being yanked: So that users won't accidentally install this when using python 3.11\u001b[0m\u001b[33m\n",
            "\u001b[0mBuilding wheels for collected packages: audioread\n",
            "  Building wheel for audioread (setup.py) ... \u001b[?25l\u001b[?25hdone\n",
            "  Created wheel for audioread: filename=audioread-3.0.0-py3-none-any.whl size=23706 sha256=7597f9c4454f6fc759123e7845798c0bad2646e7318f9d312bd65d62b5f00a88\n",
            "  Stored in directory: /root/.cache/pip/wheels/0a/ed/be/49df2538fca496690a024a4374455584d65c2afd6fc3d6e9c7\n",
            "Successfully built audioread\n",
            "Installing collected packages: tqdm, urllib3, torch, threadpoolctl, pycparser, platformdirs, pillow, packaging, numpy, llvmlite, joblib, idna, decorator, charset-normalizer, certifi, audioread, torchvision, scipy, requests, opencv-python, opencv-contrib-python, numba, cffi, soundfile, scikit-learn, resampy, pooch, librosa\n",
            "Successfully installed audioread-3.0.0 certifi-2023.7.22 cffi-1.15.1 charset-normalizer-3.2.0 decorator-5.1.1 idna-3.4 joblib-1.3.2 librosa-0.9.1 llvmlite-0.38.1 numba-0.55.0 numpy-1.21.6 opencv-contrib-python-4.8.0.76 opencv-python-3.4.18.65 packaging-23.1 pillow-10.0.1 platformdirs-3.10.0 pooch-1.7.0 pycparser-2.21 requests-2.31.0 resampy-0.3.1 scikit-learn-1.3.1 scipy-1.10.1 soundfile-0.12.1 threadpoolctl-3.2.0 torch-1.4.0 torchvision-0.2.2 tqdm-4.19.9 urllib3-2.0.5\n",
            "\u001b[33mWARNING: Running pip as the 'root' user can result in broken permissions and conflicting behaviour with the system package manager. It is recommended to use a virtual environment instead: https://pip.pypa.io/warnings/venv\u001b[0m\u001b[33m\n",
            "\u001b[0m"
          ]
        }
      ]
    },
    {
      "cell_type": "markdown",
      "source": [
        "----------------------"
      ],
      "metadata": {
        "id": "6X9qJK09iW91"
      }
    },
    {
      "cell_type": "markdown",
      "source": [
        "## **We make sure to run colab with the same google account from which we use google drive, where we will upload our desired audio and image/video file.**"
      ],
      "metadata": {
        "id": "E6msOmMuksby"
      }
    },
    {
      "cell_type": "markdown",
      "source": [
        "## **Create a folder in your Gdrive. Choose the image/video (jpg/mp4) and Audio (wav) of your choice. The face should be always visible if you are using a video, there should be no audio in the video already, and too high resolution video might cause problems (1080p 30 sec max). Upload both audio and Video to that folder.**"
      ],
      "metadata": {
        "id": "TiGAuhwxiJpA"
      }
    },
    {
      "cell_type": "code",
      "source": [
        "from google.colab import drive\n",
        "drive.mount('/content/gdrive')\n",
        "\n",
        ""
      ],
      "metadata": {
        "colab": {
          "base_uri": "https://localhost:8080/"
        },
        "id": "Mf3VPVBdYE5i",
        "outputId": "4f715369-dd9e-4d57-b08f-58f48d2cb9bb"
      },
      "execution_count": 18,
      "outputs": [
        {
          "output_type": "stream",
          "name": "stdout",
          "text": [
            "Mounted at /content/gdrive\n"
          ]
        }
      ]
    },
    {
      "cell_type": "markdown",
      "source": [
        "## **Replace the name \"Lip_test\" in the code below to the folder name that you have created to check the contents inside that folder and making sure you have both the files uploaded and ready. I will be cloning an audio file over an image, hence i have both the \"image1.jpg\" and \"voice1.wav\" files ready in my folder.**"
      ],
      "metadata": {
        "id": "71CZI8uhmDmR"
      }
    },
    {
      "cell_type": "code",
      "source": [
        "print(\"Contents:\")\n",
        "!ls /content/gdrive/MyDrive/Lip_test"
      ],
      "metadata": {
        "colab": {
          "base_uri": "https://localhost:8080/"
        },
        "id": "7Nf1uqLsdOMQ",
        "outputId": "a1949813-89c6-41de-a8ee-3d7ca1f2f0e7"
      },
      "execution_count": 19,
      "outputs": [
        {
          "output_type": "stream",
          "name": "stdout",
          "text": [
            "Contents:\n",
            "image1.jpg  voice1.wav\n"
          ]
        }
      ]
    },
    {
      "cell_type": "markdown",
      "source": [
        "## **Change the folder and file name in the code cell below to what folder and file names we have.**"
      ],
      "metadata": {
        "id": "TZTHvpPvphlQ"
      }
    },
    {
      "cell_type": "markdown",
      "source": [
        "![image.png](data:image/png;base64,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)"
      ],
      "metadata": {
        "id": "ZYfohywjqLb4"
      }
    },
    {
      "cell_type": "code",
      "source": [
        "!cp \"/content/gdrive/My Drive/Lip_test/image1.jpg\" \"/content/gdrive/My Drive/Lip_test/voice1.wav\" sample_data/\n",
        "!ls sample_data/"
      ],
      "metadata": {
        "colab": {
          "base_uri": "https://localhost:8080/"
        },
        "id": "6ltFecGAdN_s",
        "outputId": "f6bd3077-de82-46e7-9862-a9dcd9cc0e82"
      },
      "execution_count": 20,
      "outputs": [
        {
          "output_type": "stream",
          "name": "stdout",
          "text": [
            "anscombe.json\t\t      image1.jpg\t     README.md\n",
            "california_housing_test.csv   mnist_test.csv\t     voice1.wav\n",
            "california_housing_train.csv  mnist_train_small.csv\n"
          ]
        }
      ]
    },
    {
      "cell_type": "markdown",
      "source": [
        "## **Change the File names in the code below as well, image/video file first, then the audio file, and run the model. After the model is run successfully, we can check our output in the files menu on the left by clicking on the folder icon -> AI-Lipsync -> results -> \"result_voice.mp4\"**"
      ],
      "metadata": {
        "id": "pyT0aJ1oqliI"
      }
    },
    {
      "cell_type": "code",
      "source": [
        "!cd AI-Lipsync && python inference.py --checkpoint_path checkpoints/model.pth --face \"../sample_data/image1.jpg\" --audio \"../sample_data/voice1.wav\"\n"
      ],
      "metadata": {
        "colab": {
          "base_uri": "https://localhost:8080/"
        },
        "id": "cLhxiz1WeItD",
        "outputId": "274d430f-c035-48d3-f760-bf8a387b1dc4"
      },
      "execution_count": 21,
      "outputs": [
        {
          "output_type": "stream",
          "name": "stdout",
          "text": [
            "Using cuda for inference.\n",
            "Reading video frames...\n",
            "Number of frames available for inference: 1\n",
            "/content/AI-Lipsync/audio.py:100: FutureWarning: Pass sr=16000, n_fft=800 as keyword args. From version 0.10 passing these as positional arguments will result in an error\n",
            "  return librosa.filters.mel(hp.sample_rate, hp.n_fft, n_mels=hp.num_mels,\n",
            "(80, 615)\n",
            "Length of mel chunks: 189\n",
            "  0% 0/2 [00:00<?, ?it/s]\n",
            "  0% 0/1 [00:00<?, ?it/s]\u001b[A\n",
            "100% 1/1 [00:02<00:00,  2.35s/it]\u001b[A\n",
            "\u001b[ALoad checkpoint from: checkpoints/model.pth\n",
            "Model loaded\n",
            "100% 2/2 [00:12<00:00,  6.36s/it]\n",
            "ffmpeg version 4.4.2-0ubuntu0.22.04.1 Copyright (c) 2000-2021 the FFmpeg developers\n",
            "  built with gcc 11 (Ubuntu 11.2.0-19ubuntu1)\n",
            "  configuration: --prefix=/usr --extra-version=0ubuntu0.22.04.1 --toolchain=hardened --libdir=/usr/lib/x86_64-linux-gnu --incdir=/usr/include/x86_64-linux-gnu --arch=amd64 --enable-gpl --disable-stripping --enable-gnutls --enable-ladspa --enable-libaom --enable-libass --enable-libbluray --enable-libbs2b --enable-libcaca --enable-libcdio --enable-libcodec2 --enable-libdav1d --enable-libflite --enable-libfontconfig --enable-libfreetype --enable-libfribidi --enable-libgme --enable-libgsm --enable-libjack --enable-libmp3lame --enable-libmysofa --enable-libopenjpeg --enable-libopenmpt --enable-libopus --enable-libpulse --enable-librabbitmq --enable-librubberband --enable-libshine --enable-libsnappy --enable-libsoxr --enable-libspeex --enable-libsrt --enable-libssh --enable-libtheora --enable-libtwolame --enable-libvidstab --enable-libvorbis --enable-libvpx --enable-libwebp --enable-libx265 --enable-libxml2 --enable-libxvid --enable-libzimg --enable-libzmq --enable-libzvbi --enable-lv2 --enable-omx --enable-openal --enable-opencl --enable-opengl --enable-sdl2 --enable-pocketsphinx --enable-librsvg --enable-libmfx --enable-libdc1394 --enable-libdrm --enable-libiec61883 --enable-chromaprint --enable-frei0r --enable-libx264 --enable-shared\n",
            "  libavutil      56. 70.100 / 56. 70.100\n",
            "  libavcodec     58.134.100 / 58.134.100\n",
            "  libavformat    58. 76.100 / 58. 76.100\n",
            "  libavdevice    58. 13.100 / 58. 13.100\n",
            "  libavfilter     7.110.100 /  7.110.100\n",
            "  libswscale      5.  9.100 /  5.  9.100\n",
            "  libswresample   3.  9.100 /  3.  9.100\n",
            "  libpostproc    55.  9.100 / 55.  9.100\n",
            "\u001b[0;33mGuessed Channel Layout for Input Stream #0.0 : mono\n",
            "\u001b[0mInput #0, wav, from '../sample_data/voice1.wav':\n",
            "  Metadata:\n",
            "    encoder         : Lavf60.3.100\n",
            "  Duration: 00:00:07.68, bitrate: 384 kb/s\n",
            "  Stream #0:0: Audio: pcm_s16le ([1][0][0][0] / 0x0001), 24000 Hz, mono, s16, 384 kb/s\n",
            "Input #1, avi, from 'temp/result.avi':\n",
            "  Metadata:\n",
            "    software        : Lavf59.27.100\n",
            "  Duration: 00:00:07.56, start: 0.000000, bitrate: 1832 kb/s\n",
            "  Stream #1:0: Video: mpeg4 (Simple Profile) (DIVX / 0x58564944), yuv420p, 794x1058 [SAR 1:1 DAR 397:529], 1830 kb/s, 25 fps, 25 tbr, 25 tbn, 25 tbc\n",
            "Stream mapping:\n",
            "  Stream #1:0 -> #0:0 (mpeg4 (native) -> h264 (libx264))\n",
            "  Stream #0:0 -> #0:1 (pcm_s16le (native) -> aac (native))\n",
            "Press [q] to stop, [?] for help\n",
            "\u001b[1;36m[libx264 @ 0x564c7bf0ca80] \u001b[0m\u001b[0;33m-qscale is ignored, -crf is recommended.\n",
            "\u001b[0m\u001b[1;36m[libx264 @ 0x564c7bf0ca80] \u001b[0musing SAR=1/1\n",
            "\u001b[1;36m[libx264 @ 0x564c7bf0ca80] \u001b[0musing cpu capabilities: MMX2 SSE2Fast SSSE3 SSE4.2 AVX FMA3 BMI2 AVX2 AVX512\n",
            "\u001b[1;36m[libx264 @ 0x564c7bf0ca80] \u001b[0mprofile High, level 3.1, 4:2:0, 8-bit\n",
            "\u001b[1;36m[libx264 @ 0x564c7bf0ca80] \u001b[0m264 - core 163 r3060 5db6aa6 - H.264/MPEG-4 AVC codec - Copyleft 2003-2021 - http://www.videolan.org/x264.html - options: cabac=1 ref=3 deblock=1:0:0 analyse=0x3:0x113 me=hex subme=7 psy=1 psy_rd=1.00:0.00 mixed_ref=1 me_range=16 chroma_me=1 trellis=1 8x8dct=1 cqm=0 deadzone=21,11 fast_pskip=1 chroma_qp_offset=-2 threads=3 lookahead_threads=1 sliced_threads=0 nr=0 decimate=1 interlaced=0 bluray_compat=0 constrained_intra=0 bframes=3 b_pyramid=2 b_adapt=1 b_bias=0 direct=1 weightb=1 open_gop=0 weightp=2 keyint=250 keyint_min=25 scenecut=40 intra_refresh=0 rc_lookahead=40 rc=crf mbtree=1 crf=23.0 qcomp=0.60 qpmin=0 qpmax=69 qpstep=4 ip_ratio=1.40 aq=1:1.00\n",
            "Output #0, mp4, to 'results/result_voice.mp4':\n",
            "  Metadata:\n",
            "    encoder         : Lavf58.76.100\n",
            "  Stream #0:0: Video: h264 (avc1 / 0x31637661), yuv420p(progressive), 794x1058 [SAR 1:1 DAR 397:529], q=2-31, 25 fps, 12800 tbn\n",
            "    Metadata:\n",
            "      encoder         : Lavc58.134.100 libx264\n",
            "    Side data:\n",
            "      cpb: bitrate max/min/avg: 0/0/0 buffer size: 0 vbv_delay: N/A\n",
            "  Stream #0:1: Audio: aac (LC) (mp4a / 0x6134706D), 24000 Hz, mono, fltp, 69 kb/s\n",
            "    Metadata:\n",
            "      encoder         : Lavc58.134.100 aac\n",
            "frame=  189 fps= 29 q=-1.0 Lsize=     354kB time=00:00:07.63 bitrate= 379.8kbits/s speed=1.16x    \n",
            "video:272kB audio:76kB subtitle:0kB other streams:0kB global headers:0kB muxing overhead: 1.717546%\n",
            "\u001b[1;36m[libx264 @ 0x564c7bf0ca80] \u001b[0mframe I:1     Avg QP:18.54  size: 66195\n",
            "\u001b[1;36m[libx264 @ 0x564c7bf0ca80] \u001b[0mframe P:49    Avg QP:18.56  size:  3216\n",
            "\u001b[1;36m[libx264 @ 0x564c7bf0ca80] \u001b[0mframe B:139   Avg QP:25.85  size:   392\n",
            "\u001b[1;36m[libx264 @ 0x564c7bf0ca80] \u001b[0mconsecutive B-frames:  1.1%  2.1%  1.6% 95.2%\n",
            "\u001b[1;36m[libx264 @ 0x564c7bf0ca80] \u001b[0mmb I  I16..4:  9.9% 89.9%  0.2%\n",
            "\u001b[1;36m[libx264 @ 0x564c7bf0ca80] \u001b[0mmb P  I16..4:  0.1%  1.1%  0.0%  P16..4: 10.7%  2.1%  1.6%  0.0%  0.0%    skip:84.3%\n",
            "\u001b[1;36m[libx264 @ 0x564c7bf0ca80] \u001b[0mmb B  I16..4:  0.0%  0.1%  0.0%  B16..8:  5.2%  0.3%  0.0%  direct: 0.1%  skip:94.3%  L0:50.3% L1:47.7% BI: 2.0%\n",
            "\u001b[1;36m[libx264 @ 0x564c7bf0ca80] \u001b[0m8x8 transform intra:88.5% inter:94.7%\n",
            "\u001b[1;36m[libx264 @ 0x564c7bf0ca80] \u001b[0mcoded y,uvDC,uvAC intra: 77.9% 78.5% 18.2% inter: 1.6% 2.0% 0.2%\n",
            "\u001b[1;36m[libx264 @ 0x564c7bf0ca80] \u001b[0mi16 v,h,dc,p: 26% 19% 17% 38%\n",
            "\u001b[1;36m[libx264 @ 0x564c7bf0ca80] \u001b[0mi8 v,h,dc,ddl,ddr,vr,hd,vl,hu: 25% 21% 30%  4%  3%  3%  3%  5%  5%\n",
            "\u001b[1;36m[libx264 @ 0x564c7bf0ca80] \u001b[0mi4 v,h,dc,ddl,ddr,vr,hd,vl,hu: 49% 24%  8%  3%  2%  4%  6%  2%  1%\n",
            "\u001b[1;36m[libx264 @ 0x564c7bf0ca80] \u001b[0mi8c dc,h,v,p: 38% 24% 30%  8%\n",
            "\u001b[1;36m[libx264 @ 0x564c7bf0ca80] \u001b[0mWeighted P-Frames: Y:0.0% UV:0.0%\n",
            "\u001b[1;36m[libx264 @ 0x564c7bf0ca80] \u001b[0mref P L0: 67.8%  6.3% 16.4%  9.5%\n",
            "\u001b[1;36m[libx264 @ 0x564c7bf0ca80] \u001b[0mref B L0: 79.0% 15.7%  5.3%\n",
            "\u001b[1;36m[libx264 @ 0x564c7bf0ca80] \u001b[0mref B L1: 94.4%  5.6%\n",
            "\u001b[1;36m[libx264 @ 0x564c7bf0ca80] \u001b[0mkb/s:294.49\n",
            "\u001b[1;36m[aac @ 0x564c7bf169c0] \u001b[0mQavg: 11749.264\n"
          ]
        }
      ]
    }
  ]
}