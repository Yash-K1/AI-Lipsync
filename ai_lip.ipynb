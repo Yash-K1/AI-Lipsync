{
  "nbformat": 4,
  "nbformat_minor": 0,
  "metadata": {
    "colab": {
      "provenance": [],
      "gpuType": "T4",
      "authorship_tag": "ABX9TyP/XaCJsW1BoeuIYnARCCar",
      "include_colab_link": true
    },
    "kernelspec": {
      "name": "python3",
      "display_name": "Python 3"
    },
    "language_info": {
      "name": "python"
    },
    "accelerator": "GPU"
  },
  "cells": [
    {
      "cell_type": "markdown",
      "metadata": {
        "id": "view-in-github",
        "colab_type": "text"
      },
      "source": [
        "<a href=\"https://colab.research.google.com/github/Yash-K1/LS_Final/blob/main/ai_lip.ipynb\" target=\"_parent\"><img src=\"https://colab.research.google.com/assets/colab-badge.svg\" alt=\"Open In Colab\"/></a>"
      ]
    },
    {
      "cell_type": "markdown",
      "source": [
        "# **Prerequisite for Colab**"
      ],
      "metadata": {
        "id": "Noaj1JSskuSa"
      }
    },
    {
      "cell_type": "markdown",
      "source": [
        "## Before Starting, we change the runtime type to GPU.\n",
        "### Go to Runtime -> Change runtime type -> Select \"GPU\" as Hardware accelerator and Save."
      ],
      "metadata": {
        "id": "EIrG9O7vkvs8"
      }
    },
    {
      "cell_type": "markdown",
      "source": [
        "![ssc.png](data:image/png;base64,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)\n"
      ],
      "metadata": {
        "id": "jndlFtbnlDnx"
      }
    },
    {
      "cell_type": "code",
      "execution_count": 2,
      "metadata": {
        "id": "L3zz8AKJR6jj",
        "colab": {
          "base_uri": "https://localhost:8080/"
        },
        "outputId": "197e8ca7-5685-4ab8-ac67-3d6abcd6bc5a"
      },
      "outputs": [
        {
          "output_type": "stream",
          "name": "stdout",
          "text": [
            "Reading package lists... Done\n",
            "Building dependency tree... Done\n",
            "Reading state information... Done\n",
            "The following additional packages will be installed:\n",
            "  libpython3.8-minimal libpython3.8-stdlib mailcap mime-support\n",
            "  python3.8-minimal\n",
            "Suggested packages:\n",
            "  python3.8-venv binfmt-support\n",
            "The following NEW packages will be installed:\n",
            "  libpython3.8-minimal libpython3.8-stdlib mailcap mime-support python3.8\n",
            "  python3.8-minimal\n",
            "0 upgraded, 6 newly installed, 0 to remove and 8 not upgraded.\n",
            "Need to get 5,099 kB of archives.\n",
            "After this operation, 18.9 MB of additional disk space will be used.\n",
            "Get:1 http://archive.ubuntu.com/ubuntu jammy/main amd64 mailcap all 3.70+nmu1ubuntu1 [23.8 kB]\n",
            "Get:2 http://archive.ubuntu.com/ubuntu jammy/main amd64 mime-support all 3.66 [3,696 B]\n",
            "Get:3 https://ppa.launchpadcontent.net/deadsnakes/ppa/ubuntu jammy/main amd64 libpython3.8-minimal amd64 3.8.17-1+jammy1 [793 kB]\n",
            "Get:4 https://ppa.launchpadcontent.net/deadsnakes/ppa/ubuntu jammy/main amd64 python3.8-minimal amd64 3.8.17-1+jammy1 [2,023 kB]\n",
            "Get:5 https://ppa.launchpadcontent.net/deadsnakes/ppa/ubuntu jammy/main amd64 libpython3.8-stdlib amd64 3.8.17-1+jammy1 [1,817 kB]\n",
            "Get:6 https://ppa.launchpadcontent.net/deadsnakes/ppa/ubuntu jammy/main amd64 python3.8 amd64 3.8.17-1+jammy1 [438 kB]\n",
            "Fetched 5,099 kB in 4s (1,160 kB/s)\n",
            "debconf: unable to initialize frontend: Dialog\n",
            "debconf: (No usable dialog-like program is installed, so the dialog based frontend cannot be used. at /usr/share/perl5/Debconf/FrontEnd/Dialog.pm line 78, <> line 6.)\n",
            "debconf: falling back to frontend: Readline\n",
            "debconf: unable to initialize frontend: Readline\n",
            "debconf: (This frontend requires a controlling tty.)\n",
            "debconf: falling back to frontend: Teletype\n",
            "dpkg-preconfigure: unable to re-open stdin: \n",
            "Selecting previously unselected package libpython3.8-minimal:amd64.\n",
            "(Reading database ... 120493 files and directories currently installed.)\n",
            "Preparing to unpack .../0-libpython3.8-minimal_3.8.17-1+jammy1_amd64.deb ...\n",
            "Unpacking libpython3.8-minimal:amd64 (3.8.17-1+jammy1) ...\n",
            "Selecting previously unselected package python3.8-minimal.\n",
            "Preparing to unpack .../1-python3.8-minimal_3.8.17-1+jammy1_amd64.deb ...\n",
            "Unpacking python3.8-minimal (3.8.17-1+jammy1) ...\n",
            "Selecting previously unselected package mailcap.\n",
            "Preparing to unpack .../2-mailcap_3.70+nmu1ubuntu1_all.deb ...\n",
            "Unpacking mailcap (3.70+nmu1ubuntu1) ...\n",
            "Selecting previously unselected package mime-support.\n",
            "Preparing to unpack .../3-mime-support_3.66_all.deb ...\n",
            "Unpacking mime-support (3.66) ...\n",
            "Selecting previously unselected package libpython3.8-stdlib:amd64.\n",
            "Preparing to unpack .../4-libpython3.8-stdlib_3.8.17-1+jammy1_amd64.deb ...\n",
            "Unpacking libpython3.8-stdlib:amd64 (3.8.17-1+jammy1) ...\n",
            "Selecting previously unselected package python3.8.\n",
            "Preparing to unpack .../5-python3.8_3.8.17-1+jammy1_amd64.deb ...\n",
            "Unpacking python3.8 (3.8.17-1+jammy1) ...\n",
            "Setting up libpython3.8-minimal:amd64 (3.8.17-1+jammy1) ...\n",
            "Setting up python3.8-minimal (3.8.17-1+jammy1) ...\n",
            "Setting up mailcap (3.70+nmu1ubuntu1) ...\n",
            "Setting up mime-support (3.66) ...\n",
            "Setting up libpython3.8-stdlib:amd64 (3.8.17-1+jammy1) ...\n",
            "Setting up python3.8 (3.8.17-1+jammy1) ...\n",
            "Processing triggers for man-db (2.10.2-1) ...\n"
          ]
        }
      ],
      "source": [
        "!sudo apt-get install python3.8"
      ]
    },
    {
      "cell_type": "code",
      "source": [
        "import sys\n",
        "\n",
        "# Check the current Python version\n",
        "current_version = sys.version_info\n",
        "\n",
        "# Set the Python version to 3.8\n",
        "sys.version_info = (3, 8, 0, 'final', 0)\n",
        "\n",
        "# Print the new Python version\n",
        "print(sys.version_info)"
      ],
      "metadata": {
        "colab": {
          "base_uri": "https://localhost:8080/"
        },
        "id": "Mbj6j6a4aqGG",
        "outputId": "51522eda-6d9e-48e8-ac7a-0017cf284fa0"
      },
      "execution_count": 3,
      "outputs": [
        {
          "output_type": "stream",
          "name": "stdout",
          "text": [
            "(3, 8, 0, 'final', 0)\n"
          ]
        }
      ]
    },
    {
      "cell_type": "code",
      "source": [
        "!sudo update-alternatives --install /usr/bin/python3 python3 /usr/bin/python3.8 1"
      ],
      "metadata": {
        "id": "SIIraRhUasGa",
        "outputId": "5555c278-1dda-4b7c-94a3-9f87a27b7e4a",
        "colab": {
          "base_uri": "https://localhost:8080/"
        }
      },
      "execution_count": 4,
      "outputs": [
        {
          "output_type": "stream",
          "name": "stdout",
          "text": [
            "update-alternatives: using /usr/bin/python3.8 to provide /usr/bin/python3 (python3) in auto mode\n"
          ]
        }
      ]
    },
    {
      "cell_type": "code",
      "source": [
        "!python --version"
      ],
      "metadata": {
        "colab": {
          "base_uri": "https://localhost:8080/"
        },
        "id": "X2O5tBQlavmy",
        "outputId": "b8cc6200-9bb4-483c-b69b-d3227026cfae"
      },
      "execution_count": 5,
      "outputs": [
        {
          "output_type": "stream",
          "name": "stdout",
          "text": [
            "Python 3.8.17\n"
          ]
        }
      ]
    },
    {
      "cell_type": "code",
      "source": [
        "!apt-get install python3-pip"
      ],
      "metadata": {
        "colab": {
          "base_uri": "https://localhost:8080/"
        },
        "id": "5rmm_a-OavhO",
        "outputId": "17a4e6d0-c731-4c89-b649-16e41772452a"
      },
      "execution_count": 6,
      "outputs": [
        {
          "output_type": "stream",
          "name": "stdout",
          "text": [
            "Reading package lists... Done\n",
            "Building dependency tree... Done\n",
            "Reading state information... Done\n",
            "The following additional packages will be installed:\n",
            "  python3-setuptools python3-wheel\n",
            "Suggested packages:\n",
            "  python-setuptools-doc\n",
            "The following NEW packages will be installed:\n",
            "  python3-pip python3-setuptools python3-wheel\n",
            "0 upgraded, 3 newly installed, 0 to remove and 8 not upgraded.\n",
            "Need to get 1,677 kB of archives.\n",
            "After this operation, 8,965 kB of additional disk space will be used.\n",
            "Get:1 http://archive.ubuntu.com/ubuntu jammy-updates/main amd64 python3-setuptools all 59.6.0-1.2ubuntu0.22.04.1 [339 kB]\n",
            "Get:2 http://archive.ubuntu.com/ubuntu jammy-updates/universe amd64 python3-wheel all 0.37.1-2ubuntu0.22.04.1 [32.0 kB]\n",
            "Get:3 http://archive.ubuntu.com/ubuntu jammy-updates/universe amd64 python3-pip all 22.0.2+dfsg-1ubuntu0.3 [1,305 kB]\n",
            "Fetched 1,677 kB in 0s (4,076 kB/s)\n",
            "Selecting previously unselected package python3-setuptools.\n",
            "(Reading database ... 121144 files and directories currently installed.)\n",
            "Preparing to unpack .../python3-setuptools_59.6.0-1.2ubuntu0.22.04.1_all.deb ...\n",
            "Unpacking python3-setuptools (59.6.0-1.2ubuntu0.22.04.1) ...\n",
            "Selecting previously unselected package python3-wheel.\n",
            "Preparing to unpack .../python3-wheel_0.37.1-2ubuntu0.22.04.1_all.deb ...\n",
            "Unpacking python3-wheel (0.37.1-2ubuntu0.22.04.1) ...\n",
            "Selecting previously unselected package python3-pip.\n",
            "Preparing to unpack .../python3-pip_22.0.2+dfsg-1ubuntu0.3_all.deb ...\n",
            "Unpacking python3-pip (22.0.2+dfsg-1ubuntu0.3) ...\n",
            "Setting up python3-setuptools (59.6.0-1.2ubuntu0.22.04.1) ...\n",
            "Setting up python3-wheel (0.37.1-2ubuntu0.22.04.1) ...\n",
            "Setting up python3-pip (22.0.2+dfsg-1ubuntu0.3) ...\n",
            "Processing triggers for man-db (2.10.2-1) ...\n"
          ]
        }
      ]
    },
    {
      "cell_type": "code",
      "source": [
        "!sudo apt-get install python3.8-distutils"
      ],
      "metadata": {
        "colab": {
          "base_uri": "https://localhost:8080/"
        },
        "id": "E2plck36a11L",
        "outputId": "5ce656ba-4443-4580-d930-60fef6484b72"
      },
      "execution_count": 7,
      "outputs": [
        {
          "output_type": "stream",
          "name": "stdout",
          "text": [
            "Reading package lists... Done\n",
            "Building dependency tree... Done\n",
            "Reading state information... Done\n",
            "The following additional packages will be installed:\n",
            "  python3.8-lib2to3\n",
            "The following NEW packages will be installed:\n",
            "  python3.8-distutils python3.8-lib2to3\n",
            "0 upgraded, 2 newly installed, 0 to remove and 8 not upgraded.\n",
            "Need to get 319 kB of archives.\n",
            "After this operation, 1,237 kB of additional disk space will be used.\n",
            "Get:1 https://ppa.launchpadcontent.net/deadsnakes/ppa/ubuntu jammy/main amd64 python3.8-lib2to3 all 3.8.17-1+jammy1 [126 kB]\n",
            "Get:2 https://ppa.launchpadcontent.net/deadsnakes/ppa/ubuntu jammy/main amd64 python3.8-distutils all 3.8.17-1+jammy1 [193 kB]\n",
            "Fetched 319 kB in 2s (197 kB/s)\n",
            "debconf: unable to initialize frontend: Dialog\n",
            "debconf: (No usable dialog-like program is installed, so the dialog based frontend cannot be used. at /usr/share/perl5/Debconf/FrontEnd/Dialog.pm line 78, <> line 2.)\n",
            "debconf: falling back to frontend: Readline\n",
            "debconf: unable to initialize frontend: Readline\n",
            "debconf: (This frontend requires a controlling tty.)\n",
            "debconf: falling back to frontend: Teletype\n",
            "dpkg-preconfigure: unable to re-open stdin: \n",
            "Selecting previously unselected package python3.8-lib2to3.\n",
            "(Reading database ... 122006 files and directories currently installed.)\n",
            "Preparing to unpack .../python3.8-lib2to3_3.8.17-1+jammy1_all.deb ...\n",
            "Unpacking python3.8-lib2to3 (3.8.17-1+jammy1) ...\n",
            "Selecting previously unselected package python3.8-distutils.\n",
            "Preparing to unpack .../python3.8-distutils_3.8.17-1+jammy1_all.deb ...\n",
            "Unpacking python3.8-distutils (3.8.17-1+jammy1) ...\n",
            "Setting up python3.8-lib2to3 (3.8.17-1+jammy1) ...\n",
            "Setting up python3.8-distutils (3.8.17-1+jammy1) ...\n"
          ]
        }
      ]
    },
    {
      "cell_type": "code",
      "source": [
        "!pip uninstall tensorflow tensorflow-gpu"
      ],
      "metadata": {
        "colab": {
          "base_uri": "https://localhost:8080/"
        },
        "id": "Tg7nw1v6a2iF",
        "outputId": "bce7ab43-9127-4521-8ef4-4b87b85e1459"
      },
      "execution_count": 7,
      "outputs": [
        {
          "output_type": "stream",
          "name": "stdout",
          "text": [
            "\u001b[33mWARNING: Skipping tensorflow as it is not installed.\u001b[0m\u001b[33m\n",
            "\u001b[0m\u001b[33mWARNING: Skipping tensorflow-gpu as it is not installed.\u001b[0m\u001b[33m\n",
            "\u001b[0m\u001b[33mWARNING: Running pip as the 'root' user can result in broken permissions and conflicting behaviour with the system package manager. It is recommended to use a virtual environment instead: https://pip.pypa.io/warnings/venv\u001b[0m\u001b[33m\n",
            "\u001b[0m"
          ]
        }
      ]
    },
    {
      "cell_type": "markdown",
      "source": [
        "## **Clone my Github repository and install the required packages**"
      ],
      "metadata": {
        "id": "thbeo0RHl42Q"
      }
    },
    {
      "cell_type": "code",
      "source": [
        "!git clone https://github.com/Yash-K1/LS_Final"
      ],
      "metadata": {
        "colab": {
          "base_uri": "https://localhost:8080/"
        },
        "id": "wbWdSZxfbAiP",
        "outputId": "a9a676ef-0ca8-419f-9969-a26843768be6"
      },
      "execution_count": 9,
      "outputs": [
        {
          "output_type": "stream",
          "name": "stdout",
          "text": [
            "Cloning into 'LS_Final'...\n",
            "remote: Enumerating objects: 78, done.\u001b[K\n",
            "remote: Counting objects: 100% (5/5), done.\u001b[K\n",
            "remote: Compressing objects: 100% (5/5), done.\u001b[K\n",
            "remote: Total 78 (delta 0), reused 0 (delta 0), pack-reused 73\u001b[K\n",
            "Receiving objects: 100% (78/78), 462.20 KiB | 4.02 MiB/s, done.\n",
            "Resolving deltas: 100% (12/12), done.\n"
          ]
        }
      ]
    },
    {
      "cell_type": "code",
      "source": [
        "!wget \"https://www.adrianbulat.com/downloads/python-fan/s3fd-619a316812.pth\" -O \"LS_Final/face_detection/detection/sfd/s3fd.pth\"\n"
      ],
      "metadata": {
        "id": "ddSHsmY9mswo",
        "outputId": "80913141-d121-431e-d440-0474ab92931b",
        "colab": {
          "base_uri": "https://localhost:8080/"
        }
      },
      "execution_count": 10,
      "outputs": [
        {
          "output_type": "stream",
          "name": "stdout",
          "text": [
            "--2023-07-28 08:26:26--  https://www.adrianbulat.com/downloads/python-fan/s3fd-619a316812.pth\n",
            "Resolving www.adrianbulat.com (www.adrianbulat.com)... 45.136.29.207\n",
            "Connecting to www.adrianbulat.com (www.adrianbulat.com)|45.136.29.207|:443... connected.\n",
            "HTTP request sent, awaiting response... 200 OK\n",
            "Length: 89843225 (86M) [application/octet-stream]\n",
            "Saving to: ‘LS_Final/face_detection/detection/sfd/s3fd.pth’\n",
            "\n",
            "LS_Final/face_detec 100%[===================>]  85.68M  5.44MB/s    in 8.0s    \n",
            "\n",
            "2023-07-28 08:26:35 (10.7 MB/s) - ‘LS_Final/face_detection/detection/sfd/s3fd.pth’ saved [89843225/89843225]\n",
            "\n"
          ]
        }
      ]
    },
    {
      "cell_type": "code",
      "source": [
        "!cd LS_Final && pip install -r requirements.txt"
      ],
      "metadata": {
        "colab": {
          "base_uri": "https://localhost:8080/"
        },
        "id": "wOb9SrBJbKEG",
        "outputId": "0c8346ab-7e17-4763-c64d-243a45c0812f"
      },
      "execution_count": 9,
      "outputs": [
        {
          "output_type": "stream",
          "name": "stdout",
          "text": [
            "Collecting numpy==1.21.6\n",
            "  Downloading numpy-1.21.6-cp38-cp38-manylinux_2_12_x86_64.manylinux2010_x86_64.whl (15.7 MB)\n",
            "\u001b[2K     \u001b[90m━━━━━━━━━━━━━━━━━━━━━━━━━━━━━━━━━━━━━━━━\u001b[0m \u001b[32m15.7/15.7 MB\u001b[0m \u001b[31m75.5 MB/s\u001b[0m eta \u001b[36m0:00:00\u001b[0m\n",
            "\u001b[?25hCollecting opencv-contrib-python>=4.2.0.34\n",
            "  Downloading opencv_contrib_python-4.8.0.74-cp37-abi3-manylinux_2_17_x86_64.manylinux2014_x86_64.whl (67.8 MB)\n",
            "\u001b[2K     \u001b[90m━━━━━━━━━━━━━━━━━━━━━━━━━━━━━━━━━━━━━━━━\u001b[0m \u001b[32m67.8/67.8 MB\u001b[0m \u001b[31m9.8 MB/s\u001b[0m eta \u001b[36m0:00:00\u001b[0m\n",
            "\u001b[?25hCollecting opencv-python==3.4.18.65\n",
            "  Downloading opencv_python-3.4.18.65-cp36-abi3-manylinux_2_17_x86_64.manylinux2014_x86_64.whl (58.4 MB)\n",
            "\u001b[2K     \u001b[90m━━━━━━━━━━━━━━━━━━━━━━━━━━━━━━━━━━━━━━━━\u001b[0m \u001b[32m58.4/58.4 MB\u001b[0m \u001b[31m14.3 MB/s\u001b[0m eta \u001b[36m0:00:00\u001b[0m\n",
            "\u001b[?25hCollecting torch==1.4.0\n",
            "  Downloading torch-1.4.0-cp38-cp38-manylinux1_x86_64.whl (753.4 MB)\n",
            "\u001b[2K     \u001b[90m━━━━━━━━━━━━━━━━━━━━━━━━━━━━━━━━━━━━━━━\u001b[0m \u001b[32m753.4/753.4 MB\u001b[0m \u001b[31m2.4 MB/s\u001b[0m eta \u001b[36m0:00:00\u001b[0m\n",
            "\u001b[?25hCollecting torchvision==0.2.2\n",
            "  Downloading torchvision-0.2.2-py2.py3-none-any.whl (64 kB)\n",
            "\u001b[2K     \u001b[90m━━━━━━━━━━━━━━━━━━━━━━━━━━━━━━━━━━━━━━━━\u001b[0m \u001b[32m64.3/64.3 KB\u001b[0m \u001b[31m8.9 MB/s\u001b[0m eta \u001b[36m0:00:00\u001b[0m\n",
            "\u001b[?25hCollecting tqdm==4.19.9\n",
            "  Downloading tqdm-4.19.9-py2.py3-none-any.whl (52 kB)\n",
            "\u001b[2K     \u001b[90m━━━━━━━━━━━━━━━━━━━━━━━━━━━━━━━━━━━━━━━━\u001b[0m \u001b[32m52.7/52.7 KB\u001b[0m \u001b[31m7.0 MB/s\u001b[0m eta \u001b[36m0:00:00\u001b[0m\n",
            "\u001b[?25hCollecting numba==0.55\n",
            "  Downloading numba-0.55.0-cp38-cp38-manylinux2014_x86_64.manylinux_2_17_x86_64.whl (3.4 MB)\n",
            "\u001b[2K     \u001b[90m━━━━━━━━━━━━━━━━━━━━━━━━━━━━━━━━━━━━━━━━\u001b[0m \u001b[32m3.4/3.4 MB\u001b[0m \u001b[31m89.7 MB/s\u001b[0m eta \u001b[36m0:00:00\u001b[0m\n",
            "\u001b[?25hCollecting librosa==0.9.1\n",
            "  Downloading librosa-0.9.1-py3-none-any.whl (213 kB)\n",
            "\u001b[2K     \u001b[90m━━━━━━━━━━━━━━━━━━━━━━━━━━━━━━━━━━━━━━\u001b[0m \u001b[32m213.1/213.1 KB\u001b[0m \u001b[31m27.9 MB/s\u001b[0m eta \u001b[36m0:00:00\u001b[0m\n",
            "\u001b[?25hCollecting resampy==0.3.1\n",
            "  Downloading resampy-0.3.1-py3-none-any.whl (3.1 MB)\n",
            "\u001b[2K     \u001b[90m━━━━━━━━━━━━━━━━━━━━━━━━━━━━━━━━━━━━━━━━\u001b[0m \u001b[32m3.1/3.1 MB\u001b[0m \u001b[31m110.1 MB/s\u001b[0m eta \u001b[36m0:00:00\u001b[0m\n",
            "\u001b[?25hCollecting pillow>=4.1.1\n",
            "  Downloading Pillow-10.0.0-cp38-cp38-manylinux_2_28_x86_64.whl (3.4 MB)\n",
            "\u001b[2K     \u001b[90m━━━━━━━━━━━━━━━━━━━━━━━━━━━━━━━━━━━━━━━━\u001b[0m \u001b[32m3.4/3.4 MB\u001b[0m \u001b[31m89.4 MB/s\u001b[0m eta \u001b[36m0:00:00\u001b[0m\n",
            "\u001b[?25hRequirement already satisfied: six in /usr/lib/python3/dist-packages (from torchvision==0.2.2->-r requirements.txt (line 5)) (1.16.0)\n",
            "Requirement already satisfied: setuptools in /usr/lib/python3/dist-packages (from numba==0.55->-r requirements.txt (line 7)) (59.6.0)\n",
            "Collecting llvmlite<0.39,>=0.38.0rc1\n",
            "  Downloading llvmlite-0.38.1-cp38-cp38-manylinux_2_17_x86_64.manylinux2014_x86_64.whl (34.5 MB)\n",
            "\u001b[2K     \u001b[90m━━━━━━━━━━━━━━━━━━━━━━━━━━━━━━━━━━━━━━━━\u001b[0m \u001b[32m34.5/34.5 MB\u001b[0m \u001b[31m32.2 MB/s\u001b[0m eta \u001b[36m0:00:00\u001b[0m\n",
            "\u001b[?25hCollecting scipy>=1.2.0\n",
            "  Downloading scipy-1.10.1-cp38-cp38-manylinux_2_17_x86_64.manylinux2014_x86_64.whl (34.5 MB)\n",
            "\u001b[2K     \u001b[90m━━━━━━━━━━━━━━━━━━━━━━━━━━━━━━━━━━━━━━━━\u001b[0m \u001b[32m34.5/34.5 MB\u001b[0m \u001b[31m13.9 MB/s\u001b[0m eta \u001b[36m0:00:00\u001b[0m\n",
            "\u001b[?25hCollecting pooch>=1.0\n",
            "  Downloading pooch-1.7.0-py3-none-any.whl (60 kB)\n",
            "\u001b[2K     \u001b[90m━━━━━━━━━━━━━━━━━━━━━━━━━━━━━━━━━━━━━━━━\u001b[0m \u001b[32m60.9/60.9 KB\u001b[0m \u001b[31m4.9 MB/s\u001b[0m eta \u001b[36m0:00:00\u001b[0m\n",
            "\u001b[?25hCollecting scikit-learn>=0.19.1\n",
            "  Downloading scikit_learn-1.3.0-cp38-cp38-manylinux_2_17_x86_64.manylinux2014_x86_64.whl (11.1 MB)\n",
            "\u001b[2K     \u001b[90m━━━━━━━━━━━━━━━━━━━━━━━━━━━━━━━━━━━━━━━━\u001b[0m \u001b[32m11.1/11.1 MB\u001b[0m \u001b[31m94.5 MB/s\u001b[0m eta \u001b[36m0:00:00\u001b[0m\n",
            "\u001b[?25hCollecting decorator>=4.0.10\n",
            "  Downloading decorator-5.1.1-py3-none-any.whl (9.1 kB)\n",
            "Collecting packaging>=20.0\n",
            "  Downloading packaging-23.1-py3-none-any.whl (48 kB)\n",
            "\u001b[2K     \u001b[90m━━━━━━━━━━━━━━━━━━━━━━━━━━━━━━━━━━━━━━━━\u001b[0m \u001b[32m48.9/48.9 KB\u001b[0m \u001b[31m6.9 MB/s\u001b[0m eta \u001b[36m0:00:00\u001b[0m\n",
            "\u001b[?25hCollecting joblib>=0.14\n",
            "  Downloading joblib-1.3.1-py3-none-any.whl (301 kB)\n",
            "\u001b[2K     \u001b[90m━━━━━━━━━━━━━━━━━━━━━━━━━━━━━━━━━━━━━━\u001b[0m \u001b[32m302.0/302.0 KB\u001b[0m \u001b[31m36.9 MB/s\u001b[0m eta \u001b[36m0:00:00\u001b[0m\n",
            "\u001b[?25hCollecting audioread>=2.1.5\n",
            "  Downloading audioread-3.0.0.tar.gz (377 kB)\n",
            "\u001b[2K     \u001b[90m━━━━━━━━━━━━━━━━━━━━━━━━━━━━━━━━━━━━━━\u001b[0m \u001b[32m377.0/377.0 KB\u001b[0m \u001b[31m41.5 MB/s\u001b[0m eta \u001b[36m0:00:00\u001b[0m\n",
            "\u001b[?25h  Preparing metadata (setup.py) ... \u001b[?25l\u001b[?25hdone\n",
            "Collecting soundfile>=0.10.2\n",
            "  Downloading soundfile-0.12.1-py2.py3-none-manylinux_2_31_x86_64.whl (1.2 MB)\n",
            "\u001b[2K     \u001b[90m━━━━━━━━━━━━━━━━━━━━━━━━━━━━━━━━━━━━━━━━\u001b[0m \u001b[32m1.2/1.2 MB\u001b[0m \u001b[31m75.4 MB/s\u001b[0m eta \u001b[36m0:00:00\u001b[0m\n",
            "\u001b[?25hCollecting platformdirs>=2.5.0\n",
            "  Downloading platformdirs-3.9.1-py3-none-any.whl (16 kB)\n",
            "Collecting requests>=2.19.0\n",
            "  Downloading requests-2.31.0-py3-none-any.whl (62 kB)\n",
            "\u001b[2K     \u001b[90m━━━━━━━━━━━━━━━━━━━━━━━━━━━━━━━━━━━━━━━━\u001b[0m \u001b[32m62.6/62.6 KB\u001b[0m \u001b[31m9.3 MB/s\u001b[0m eta \u001b[36m0:00:00\u001b[0m\n",
            "\u001b[?25hCollecting threadpoolctl>=2.0.0\n",
            "  Downloading threadpoolctl-3.2.0-py3-none-any.whl (15 kB)\n",
            "Collecting cffi>=1.0\n",
            "  Downloading cffi-1.15.1-cp38-cp38-manylinux_2_17_x86_64.manylinux2014_x86_64.whl (442 kB)\n",
            "\u001b[2K     \u001b[90m━━━━━━━━━━━━━━━━━━━━━━━━━━━━━━━━━━━━━━\u001b[0m \u001b[32m442.7/442.7 KB\u001b[0m \u001b[31m46.2 MB/s\u001b[0m eta \u001b[36m0:00:00\u001b[0m\n",
            "\u001b[?25hCollecting pycparser\n",
            "  Downloading pycparser-2.21-py2.py3-none-any.whl (118 kB)\n",
            "\u001b[2K     \u001b[90m━━━━━━━━━━━━━━━━━━━━━━━━━━━━━━━━━━━━━━\u001b[0m \u001b[32m118.7/118.7 KB\u001b[0m \u001b[31m12.8 MB/s\u001b[0m eta \u001b[36m0:00:00\u001b[0m\n",
            "\u001b[?25hCollecting charset-normalizer<4,>=2\n",
            "  Downloading charset_normalizer-3.2.0-cp38-cp38-manylinux_2_17_x86_64.manylinux2014_x86_64.whl (199 kB)\n",
            "\u001b[2K     \u001b[90m━━━━━━━━━━━━━━━━━━━━━━━━━━━━━━━━━━━━━━\u001b[0m \u001b[32m199.1/199.1 KB\u001b[0m \u001b[31m22.5 MB/s\u001b[0m eta \u001b[36m0:00:00\u001b[0m\n",
            "\u001b[?25hCollecting certifi>=2017.4.17\n",
            "  Downloading certifi-2023.7.22-py3-none-any.whl (158 kB)\n",
            "\u001b[2K     \u001b[90m━━━━━━━━━━━━━━━━━━━━━━━━━━━━━━━━━━━━━━\u001b[0m \u001b[32m158.3/158.3 KB\u001b[0m \u001b[31m22.3 MB/s\u001b[0m eta \u001b[36m0:00:00\u001b[0m\n",
            "\u001b[?25hCollecting urllib3<3,>=1.21.1\n",
            "  Downloading urllib3-2.0.4-py3-none-any.whl (123 kB)\n",
            "\u001b[2K     \u001b[90m━━━━━━━━━━━━━━━━━━━━━━━━━━━━━━━━━━━━━━\u001b[0m \u001b[32m123.9/123.9 KB\u001b[0m \u001b[31m18.5 MB/s\u001b[0m eta \u001b[36m0:00:00\u001b[0m\n",
            "\u001b[?25hCollecting idna<4,>=2.5\n",
            "  Downloading idna-3.4-py3-none-any.whl (61 kB)\n",
            "\u001b[2K     \u001b[90m━━━━━━━━━━━━━━━━━━━━━━━━━━━━━━━━━━━━━━━━\u001b[0m \u001b[32m61.5/61.5 KB\u001b[0m \u001b[31m8.9 MB/s\u001b[0m eta \u001b[36m0:00:00\u001b[0m\n",
            "\u001b[?25h\u001b[33mWARNING: The candidate selected for download or install is a yanked version: 'torchvision' candidate (version 0.2.2 at https://files.pythonhosted.org/packages/ce/a1/66d72a2fe580a9f0fcbaaa5b976911fbbde9dce9b330ba12791997b856e9/torchvision-0.2.2-py2.py3-none-any.whl#sha256=686cda0037bc904a35593a1394eaf7337edd141b78dc2eadc4667abb6fd569b5 (from https://pypi.org/simple/torchvision/))\n",
            "Reason for being yanked: So that users won't accidentally install this when using python 3.11\u001b[0m\u001b[33m\n",
            "\u001b[0mBuilding wheels for collected packages: audioread\n",
            "  Building wheel for audioread (setup.py) ... \u001b[?25l\u001b[?25hdone\n",
            "  Created wheel for audioread: filename=audioread-3.0.0-py3-none-any.whl size=23706 sha256=c3b4b5cfb9f4541b341e4731ed3a87b8cd9d053bdf8a32b5311166c4ce084c21\n",
            "  Stored in directory: /root/.cache/pip/wheels/0a/ed/be/49df2538fca496690a024a4374455584d65c2afd6fc3d6e9c7\n",
            "Successfully built audioread\n",
            "Installing collected packages: tqdm, urllib3, torch, threadpoolctl, pycparser, platformdirs, pillow, packaging, numpy, llvmlite, joblib, idna, decorator, charset-normalizer, certifi, audioread, torchvision, scipy, requests, opencv-python, opencv-contrib-python, numba, cffi, soundfile, scikit-learn, resampy, pooch, librosa\n",
            "Successfully installed audioread-3.0.0 certifi-2023.7.22 cffi-1.15.1 charset-normalizer-3.2.0 decorator-5.1.1 idna-3.4 joblib-1.3.1 librosa-0.9.1 llvmlite-0.38.1 numba-0.55.0 numpy-1.21.6 opencv-contrib-python-4.8.0.74 opencv-python-3.4.18.65 packaging-23.1 pillow-10.0.0 platformdirs-3.9.1 pooch-1.7.0 pycparser-2.21 requests-2.31.0 resampy-0.3.1 scikit-learn-1.3.0 scipy-1.10.1 soundfile-0.12.1 threadpoolctl-3.2.0 torch-1.4.0 torchvision-0.2.2 tqdm-4.19.9 urllib3-2.0.4\n",
            "\u001b[33mWARNING: Running pip as the 'root' user can result in broken permissions and conflicting behaviour with the system package manager. It is recommended to use a virtual environment instead: https://pip.pypa.io/warnings/venv\u001b[0m\u001b[33m\n",
            "\u001b[0m"
          ]
        }
      ]
    },
    {
      "cell_type": "markdown",
      "source": [
        "## **-----------------------------------------------------------------------------------------------------------------**"
      ],
      "metadata": {
        "id": "rcnz3TZAosIf"
      }
    },
    {
      "cell_type": "markdown",
      "source": [
        "## **Create a folder in your Gdrive. Choose the image/video and Audio of your choice. The face should be always visible if you are using a video, there should be no audio in the video already, and too high resolution video might cause problems (1080p 30 sec max). Upload both audio and Video to that folder.**"
      ],
      "metadata": {
        "id": "a8uHh3K8m1Pf"
      }
    },
    {
      "cell_type": "markdown",
      "source": [
        "## **Connecting your G-drive.**"
      ],
      "metadata": {
        "id": "dOrMLYT1nSPi"
      }
    },
    {
      "cell_type": "code",
      "source": [
        "from google.colab import drive\n",
        "drive.mount('/content/gdrive')"
      ],
      "metadata": {
        "colab": {
          "base_uri": "https://localhost:8080/"
        },
        "id": "vAmYxRm1gwWs",
        "outputId": "62b13524-8e1c-4b5e-a43b-02049d3a6b56"
      },
      "execution_count": 10,
      "outputs": [
        {
          "output_type": "stream",
          "name": "stdout",
          "text": [
            "Mounted at /content/gdrive\n"
          ]
        }
      ]
    },
    {
      "cell_type": "markdown",
      "source": [
        "## **Replace the name \"Wav2Lip\" in the code cell to the folder name that you have created to check the contents inside that folder and making sure you have both the files uploaded and ready.**"
      ],
      "metadata": {
        "id": "tFVDD-6uns4w"
      }
    },
    {
      "cell_type": "code",
      "source": [
        "print(\"Contents:\")\n",
        "!ls /content/gdrive/MyDrive/Wav2Lip"
      ],
      "metadata": {
        "colab": {
          "base_uri": "https://localhost:8080/"
        },
        "id": "nUV-4DwhhgBU",
        "outputId": "d25aed38-169e-416c-8f02-e0cb2fca21c0"
      },
      "execution_count": 11,
      "outputs": [
        {
          "output_type": "stream",
          "name": "stdout",
          "text": [
            "Wav2Lip:\n",
            "'1 min lipsync.mp4'   output10.wav   testvid2.mp4\n",
            " 1min.mp4\t      output1.wav    testvid.mp4\n"
          ]
        }
      ]
    },
    {
      "cell_type": "markdown",
      "source": [
        "## **Running the code! 🏃🏻‍♂️**"
      ],
      "metadata": {
        "id": "B4eWn0gOpf2K"
      }
    },
    {
      "cell_type": "markdown",
      "source": [
        "## **In the below code blocks, change the folder name from \"Wav2Lip\" to whatever name you have selected and replace the \"testvid2.mp4\" and \"output1.wav\" with the names of your own video and audio files respectively. File name change is to be done in both the code blocks present below.**"
      ],
      "metadata": {
        "id": "__gK-jR0n2XK"
      }
    },
    {
      "cell_type": "markdown",
      "source": [
        "![image.png](data:image/png;base64,iVBORw0KGgoAAAANSUhEUgAAAzcAAAA6CAYAAACNp6eZAAAAAXNSR0IArs4c6QAAAARnQU1BAACxjwv8YQUAAAAJcEhZcwAADsMAAA7DAcdvqGQAAB95SURBVHhe7Z0NcFzVdceP7ZBMB1exgHSNY5tgTLxAilxsSUwI9lKnTRA2Qxg7yChoMtOBJumQYZRU1CGJqpBAcIua4nxCp03NyBaYhiQ2JmnrIOPA1JZJLFJATsHUmDFWglkhCDRxkHvOffe+ve/t+9pP767/v5mrfe+t3u599+N83HPv3WkXX3zxcfJx/HjeJQAAAAAAAACoaTzOTRKnBo4PAAAAAAAAoBaZrl8DnRa55k8AAAAAAAAAUIuoyI3faTHnYdcBAAAAAAAAoNbwODfmde7cueq1Vti7d68+AgAAAAAAAIBgpvsdm6mpKfUKAAAAAAAAAPWEu+ZGEAfHODkAAAAAAAAAUE/kOTeI3AAAAAAAAADqEc9uaYjcAAAAAAAAAOoV5dzYDg2cGwAAAAAAAEA9gjU3AAAAAAAAgIbAMy0NAAAAAAAAAOoVT+SmnLzrXe/SRwAAAAAAAABQeaa1t7cfl6iN7JIm6dixY3TuuefqtwvjIx/5iHJqLr30Un2F6Ne//jWNjY3RM888Q7t27dJXCwM/4gkAAACAeqKtrY327NmjzwAA1aIszo04NNdffz2dd955+kow4ujcfvvt6rUQ4NwAAAAAoJ6AcwPAiaHkaWkSpRkYGIh1bARxgtatW6ciPAAAAAAAAABQTkpybsRZueGGG/RZMsy0tXQ6ra8AAAAAAAAAQOmU5NzIVLRiKMYpCufz1DG0l96/RJ9WkDWrr6XvX38RLaFz6I7PXEvfXdGs3/GxOKP/rwE58yL67mcytEafJkfK7ErqOVOfxiFlyGV8x2J9XkakHkPr7oTTTD3Xm3ZWZoquu+qg+lfR+XPKrRLtpSyoso9pdzVbP5a8U/0yYT/Wzyx1smTFlRF1W+N1VypF6gNVZqvP0WdxVFBu1Hr9nKy6IolMiaLG9UGtk5Npuu8l7qtVpL2XBrdvp+2SBnupVV8uJ629g7R9oFOfVRj1PAOU5NuKdm4k+hI2Fe0rX/lK7LoaE8GpJw5kX9dHDuNHs/rIy5qFc2j/yM/oCX1eESrgQCVRpkvOn0u0b5S26PP64xxaetZhemiH1F2+UCrNwBYcQ1CUrUm1ohxzdRdirEibKlVAa0PDSXY5FujcFsqZZ9OFNEb379PnTGHGYRKqbOSFlmUl0e3XI1teofFJfaiYpEMv6cMoXnqVxvWhYnKSDuhDDwF1V34qUXfJ2nRV9EElsetHtUnrmUs1sBnHSDTtvJptPQ5LV4Q4AqIvSmtTWgfpZ/eUY4Wdj/Lp8grI9ij7xpWLJ7adPHHUIxRpIvuKPqohdq+nro4O6rh3TF84sZTqCLUubyEa3kxD+jyKop2bqDU2R48eVRsHfO9739NXgqk350aRfZWVlF/ZW7BAuoIF4t6KKuoTxTn0URbkTz4d7NSVlX3DdNWdm+jmMpfjkhUX0KKDhyyBfpj20zwtJFmZqfNSeZ0e3bRJ5f+qO3fT+OLLC1D+WRq4h++7p9zGUDXqjpXcCqJB9dybaPDgHOoqwLnY8oDcN1yUsl1zSZrowPO1a0C+9DP6OJfJx5VTnYTSyrI4xNBqJzp4WJ97UYM5LPgm9HkyXqdx9nD8hoBNzdddKVRNH1RKbuTXz8TBSUqd78izJec30fhB76BfURzcreXlJrp1XxN1FWK4Vk1XlJ8lKy6lCw887Dz7JjZAF1+a3EkoWKbYVFGXlxHlCLdO0q07gmVU1VEDNlk6VF/FWKd00toM0ejOEX0eTdG7pckmAhJ9CaKnp8eN3MjmAVdffbU69iP/I/8bR/RuaTIt7Sqa+Lul9LhPqncObKdud2nPGG3s6KEhCWt9mmjraAt1ZxwBnR3uo671yQosDul8N9Iur8CREZhr0zRLn07se9h9X0Z+us5Sh8xhNmYc4875nBfZME7TIs97MkrSrq9ZiHJ44Dl16PnMyTG6VSs8ub40O0Yp/kyVF/OeL38GO58KGTFZeMj9HkXQvW5e/HkVo/+HNPCSGFHs2I68SBeu8OVFGViX07Im+//lWD8X5Z7TMcYup9SIVmy+vOzf4Vd4+nu3mc+U/M2jvTuInZphupkydAcdIlrB1+48REs572R/hjy/MjijDHD5zAto3Mq3uk8EsjyfLsNBanfryM2n+vw5zkWrPqUtfGHBi249ClIWV2RN/XjLOa/eBF/dqbbwrK98+H++e/qoutfThhiTx9g6sLGfO6hcDHa9We1VcPrBU/TkgvbANuGg69HUS4L27Hk+z3fa7U9w+t0BqYPFM/U1g5OXnedH14/9XXltMi+vORngwVOW4ch3uX2c25BpZ/K9958eXZaqnTU/RVc9Oy/Rd5UHX90Z7L7AuOXmK69cnTqfM86G8TJdT+Y99VwhdaeePUxuyPWVbABm07TMV3+e9uOSX3dO+/Xqg/x7c3nJy6uRAzovDx2YS12+5/OUlSU3nOeaS0/a/cXXjjx58fU9B2/9uP2x+Z2084Hnafnqs9mwm0tX8DNuoEt9/cDpS2K828/vx213gTJFy+wy6wpvOQf1Of29fl3h+781q6+keY/x/5C3DZk8zvhgB32q5W2RdZDDm0en/prooby8eevNK1N0PlmndQW1CYPkwa/LI/uclQ/rnKL6QUSb9dd57pw4/9H2jULlNU4Xa4Ke1a7fkLojyVOk3i0SsUH7MpwDzdhG6uhxYhFem5XfureDejY719uODFMqw/fx/2+kbvV/6v0DCWzatQO0feUR6utaT7alK5GUfn2PayPrsyi89zHmGfzPlh12vtN/XePmM+w+faqQZ2jd45ZVHEVHbsIcGz8PPvigx9mxSfoZxaAaSYoLSEJyKlmV1pyh7tlbnev93EEzaxPN4YtHRkMm9ZQnjRIEaRpnQWFGpkzHcAWwvq5GrKxQ7Cw2UMS4lvdk5PYKNfr/HN0s/y8jF9IJ9b22kJDO534mC5YbrajBosWi7OS9h+lRSqvRG9IjQLfue90RIvpebwdmYdDaRI8+ZgsIFqT2s5k8qbyIkHWcA+fzdvsiIjNpWSvRBvWelRczApn3/0RbHhujibNMlIWR6RJNZlRU8iICN/d9tMI3+re4hZZln8opGcM+dmgWnkNrFrIjvU+ick0078zn6H4uj0V83SDTSyaKCePLaHdTEy3Qp3RWu3IsTJktatV1rkcgVT1YPLHjKdrfNJeWuyN6Ml3idT3qJkJanAbz3A+z8eof/QuqO6LU6dwupH3qUdIlp7sWvY6i6LSJjWWdx+g68KLKK8mIvG5/qv0EMGtxu1L4TtkQLbvEG8GQEdaUXS8x7Tmyj6g2krvHRJKe2PFDPuZ2Oukofec9x2CJrh9Tls69HpRsMP2RE5dzWFQkcVkyixZzP5DP4nYmzzl4UNc1E1qWnJcbWXYNegyAypNXd4IyXLi9um3aNrKs8tJR0dy0oDm0TIwRXZZSl9JOo+ouVm40sWNjZLTVV506FRklRrW5129o5esDaXtdzUZumzw5eVEGnsk/J78ckLyIE6G+y3q+MLkh/eChgzPpQh1lEex2FKcrhMD6oVdoZ7aJli8+m1LZ52nL0Uma1Xxafj/QssGjDxPhjISbNlt2XcHtSxnS+rmvEkfAHxUN1BWiF5xyc6a7NtM8k0Ujw3QaZIdY5XHy5cg68BAhS/2EyhTFHOoS50nlhcvmrAvi9YHrLOhnEJnPzxkXRYrtB9xmu0xZ2202lGj7pihE/7IzLv1WbC5HXpxGqSY9vTak7uLkerF0XpOhcXZKHLuUk2WsD/VY19k2Ta3MrZNJZ2bTVr6WTXfTqiN9tJGLMzVPv1uMTcvOQr+5R9K9RN0Jpowpx6Zl1LWt+4at8jDT4HTaOJ6htWtz19X/iiOk33cdsLD7XFqpd2WKhu9L5tgIRTk3xTglL7/8sj7yUrqD8wuamPgVTXgkRSe1pbM0fJfP83NhD9U0qN2P0Gg2RfPZDi+VoDC2zGuVEdTcyIpBBCMLBEvAPPH0i14j2LpP1vuIAommmZYvmMkGzOXuHF4ZnbLvm9i3SwtsvwKJQYQ9vUg7PcI+AJP/xfNoEQunqHn0uXnojpLKLyMfSlnPoaXamPHMGZbvE6Gun/v7avTHUUYOItDn0P5ng4QkOzLZC1jRe5W4Em6ugrTmX5eKXS5imOSN4PkRR4tyClKe9aBWvEohsvK/1jy3jGTOpFTK+VdFQN2568f4/8YPNrllalAK3JSljGqZeo2qAwtjxG0oR3lZ/UD1Ea2oHAqdXhHTR0QRslNQ2HzuiPqJwJENCf6vwLLMOeAB7TWwLLlvrBSnIcEoaFkJrjtnEMHIKYtUk6+8nqO9luOmRu+36b6k1vvY/T+EWLlxOOfw+QcpYkg6rcnJv9Muo9fmWPWpDLL4+hIjnxacrfuLLcPidUVU33pixyE2fptor6d9eftB+dZ0lFdXSPuSASbz3Cpa4ZEpQboiNxV9AU3S/mbLcVLIYJ5pQ040w7TL8DqwMQOF5eiDVj9QfSReH8jAlmfg7qXn6clJ331FYfUf9ZkJ+mS5EVmg+i3bXFl2mmTA8sx3UspdAxhWd8XJ9TieO5Kl9HXbA9eeqDUpZgMAiWQ0z+bcOWTdtSZjtDVvplHhNm1na5o9pu7c913H56n5MZsOtNJlLc00ti3Mtu6kAfN5nCS65DpgkcTcx55Ohkbpkd36PAFFOTcShXnmmWf0WTRxv4MTFNEpjB/Q45/ooKf12YlDlAXljY5XH3sERacyjMaKQshXvI5xsWiFFgxqtLWyBtKWZw/raIpT3h7Fa43SO8maCiBOAAsA16kQLAEno7v5oWZ5Ph0xU4KtyPnXYpS5grQ4xBA1ClLVha147REunWzlH1x3DmsWsoHy2IuU0hEqta5CjeJzWzbtSKIA6l2HyDpgxBj3h/MrRlEKJ6KPuKN4Mi1R2nWyhbKR9VMCVSlLMXZsB1mMvaY0fYGPK7p5QpmMhZKJkhtFE6wPnAEsp2zVQER2d2lTXOIQg5L06HOeDIvRFQH1s6B5pt5IR0bY82W96gdqdD5YNiTDiYiEbdiTlCg5lYvg6WT3ryBd4cLOSfMhuv+AGRByRv/XrGan2GpHEi11iawDQYxr3xToChKlDxoT7ZhyvabYQN4ra2xFJ6v109F1Vwm5PrK+i1SEYqTNMebNLmbtvXRThmi4X0cwJEqj7qgcMq3NREtU8k8FK5DOgW5KW5EZiS4lIe4+ccTCHapgip6WlgTZ7jlqy+ddu3bpoxJY8h26ZuggdXiW9QzRnrFmylyTYLJZER5hIGIgBEx5UsosLywsSOSEDQprio0s3JyV1IAOHEXUn7kyZJeRGNSiX88IloaN3SuaA4S9vp4zrC2jQOXPhHSbSRYq582jLYZ9o/SojJqJArLLW77vrPZQY0zKdrwIge6MurXQHQHTuhIhU2nYWCxZmchIZFbKU5SrVRdqVCqdN53EJaTupK5nNbfQUuL2JsqXy/SjbLgoRPBbO2KpdukcOoTVASNh/0oa497FzQHTKyyC23PSPuJMjxj0jHpGRDvD6icClT8rMigjt3Y5x5Wlia4V64C4ZamnNbnJmhJSOWMrvO7EKJ2lDGQfqo9bslTaduJpIiF1FyM3ohGjKWR0O0QfKDlkG9auM+Hkz50GK1On3DUhpZClgZFJNfosAxm58o7rB9F9KxQTMVkd/PxJWLOanb5Q56IAQuSURK0X+acsWwTrCqe8UpfMI2IDV/R6amGLiErGccbc3bJUu3QOHcLqgBH9UEnHRuXFmuoWpQ/sPift1zNFzkRcuF2s9OmDqH5gI59pR4yMbOY83ehv64H2TRJ0FMaz05rUHTujlzTROMuKA3K80NRXTN0VIdcTs7mHOjo20piJziyYzbkZpxe0LSrT10K0ejQJbVongpRsW+UcI/TCOFG6Vd8lU9vctTetNJ/bQPaIbt/srK1iFWMzcohvzosOxdwn56lh2rxZnyekaOcmyjE5/fTT6XOf+1zsbmhJoz/FMNTTR8MpK+Tm2Rs7Td3m+nVEG0v0Vh1FEOLVy0jwjklr2lBuu8ctDzzMwjcXHldzsZNGWbQScadT6DnD6jP5+ZyRQSclVtyiDKx7TT69BqWF6vje73JHuvm9DSwInOeWRZJh84P9mBCxOENmNNkePc/SzgNN1CVz720locr5cC6KJMkIOL+Aj8US1GrUbQ7nJcGUPBeTb056jUASxWWMVWXUmGkT1lzwLc9KO2JF6FG8bISrucy56SX2lKrQuhPOmqMUtSnTRWwoys5Wqh1M5trWFdkx35z2kDowisEdmXZSrv1Z5SLJ1I/M95ZzK2LgUU7WFBJZo+aOdPuVpZ+Q9hzVR0wdmCTfZ9edcnbdsvZGdYLrh2WD2urVWfhs2qf6PnYq1C5o6rNk3ZS1diC2LIskrCyrTVTdcbk4O2b5ntsvS9U0nuRRlsC6i5IbsYjRat9r+l24PpA8pOzvkuTKblkfoetH1kyIk5mAOLkhawplbVIXeZ2NSF0R17f8WIMIKmLCsqWgUW5fu0y261txukKi9Ll+5yR3N8sYXbGI+6R6Tw0IsV5QEXmnHbhT/K5toif9659C6kDkszgK4e3Pm0+z1idUpigsOav0Ty7CFqoP/H3OnoUhev6g+UzR5f41TmH9QLDyL2t6dL0661l025M1b/62rr7Tute0Z1tXmM9O1F9nqrqTATvlmHL7dCKD8XUXLNeLpZV6B41NKqmb6F69Hpyt92G2p4xtuurIMLv4SQmxaWURvrrG9d6coX451pEiiSBtHLPu4zTYGz+FbKiHHTIznU02KXC3mR6h9dvG+Gv6nff6ZtOovR5HkGdk10vlw/2+6PvEyaPRRwq20YveLU3WysiPeEZtCR2FODa33XabPosmere0AlG7MsymrQl3hUiEdLiq7S5UZVjYh+3YEvSeu0lCGabClQvJU/E7nIgiid/xpyaJqrs6QU3L8uykZHDqxd1ZCMQSXpbVpsHrLkIf5Mki1UfFAC3HVLhyUWL9yPMn3cmqxihNV+TT1tZGe/bs0WfVQBy+qF0pq6gPGkD/1AWVsGlrhRKerejIjayVueeee/RZ4cT9Bk5dkWhReJ0iI5thwklNX7LxhXhrBNnRpWhlpcPzZdlIoNpE1V3dk022sBjUIA1ed6H6wJGPHnxTQGuDUuqHHaNW2RCiPBsJVJuSdEWt09D6ADQkahe14py2ktbciINz991367PkyD1jY8kDbqBG8UyrkVSFBbLVQkadVPjbCs8DwKSOH9dHABQCOw3b7KlxjSVfJOrRUDqggryPZcg1nPqnpuhjnNoaXKaczc/3Nn0MahvPjm3+lGCr6Fqh6GlpNjJFbd26dbHbOoszdPvttxe8Q1pZp6UBAEARLGU5eQunMzm9yed3T59Om6dNc94EAAAf/mlp7+B0I8uP1Wxr+flXliX3sEz5vT5vBC7hZ/0kp4WchP/lZxzk1638nABUkrI4N4I4Nul0Wq3BOeOMM9y1OOLISJRGXuUHPYuhlp2b9793HvWuit44AQBQ37z9pZfptHsf1mc5Xrn2Q/S7uX+kzxqPu3fspe37fqnPysPtnX9G5727cj/gDEAtMuOVSXrnj/+L3i47RoXw+zNm0StdH6Kpd7xdX6lfZj7+C5r50+C5ja8tv4h+036BPqs/1m7YQm/+7pg+A7VI2ZwbP+LsFBqhCQORGwBqg16WEZezvHhz2jT6e04/afDIxbv16zp+boncCLKvj+zVY+icPl2NSAIAgI2J3Ijs6GMZYrv0P2KZ8WEtU2ye5fQXM2bQb53TukOm3H2Ck5GXhhc5zXUOFV9lufl9yE1QISoWGyyXYwMAOPHIfOl/fOstupoV1h/w8Wn8ehsr62t9CqzRuI+f+d842Yp6Pyvkxyyl/LEGLwMAQPEsZvnwdZ9j80U27EWOGn7O8uRlfbyQ01/y/9cjXZzvf+Lkd2yEO/iZt1nT0T7L/3cpZCeoEJj4CACI5YusiNr1sc2n+XpLgyqoj/JzBS2CvYyv32sp6ZV8/udQ0gAAH+999VX6NstIw0vsxHxyxgz6d361NxH4Kp//gyVTZNAoU2cypYPzK+uJDG9xGrMGgYQv8/mj+prI1r/l/7d+kQmAstEAzs3nqWNoL73f9ytOnQO5HR4G1uqL9YTs7212qNA/ulRupIyS/GhTWVDPU+iv4YJa4FOsnG3jXWaMP2IpLXFwGpE/jjAu/pvTJqsMvsRlkI74fwDAyUfnc7nflNrD8uKvOP2cj5s4mciN7Ct3kK/v4DRkyZQb60iuzmfZJwNgBnHe1rITJ1PR/NzGTpxMvRNO5fv+pkH1BzixNGzkZqingzo6+sj/A6l1g9rfm5/B/fXXE4nzq7qlOImty1uIhjc33o9MNTji1HT7jPZJVlzfYAX1G62IZVnoygZUUEv1q8HvunyTy2CfZYz8NZfBTH0MADi5ka2ez/its3JGJulLdOawlhd/qP46HNWvwrdZphh3SNb7Ba3JqUXO1K+CODYy7e4Ffe5ngtNX2fExyCDSlXXynKB+wLQ0UAU6aW2GaHTniD4H9cACTreEOC0yIrfBMuyvajDlJFuYNutnEiX9Y35W/xatci6bKpiFv+LkfRKjkAAApt2SiV9jY984NkLOtCd6y7r+f5wetM6vrBN5spvzLDJSkjg2cUjk+xb+P5m6JjyjXwEoFyenc7N2IPejRJwST82KuM+eBifJiXJ00sD2AerVP4o0sFbO5X1nepb8WNJgb6eKijj3DVJv0MKGADzfV8C0Nfu+7rS+KNjT4KzPdH7QqZ8yzUTp68z7uXz6f/ApsCzXtlF6bCut363PQV0gc6jldxmEX1oK17CNr2X19fdxuqiBHBxZV2PYzkq4L0RhP8vP/yXrvQ/oVwDAyY29pmbEJz/ttXz+DYW38/++oY8v4hS0OL8WERkZJieDkGl4fzpjBi3n9D++8gGgVE5C56aVelemaLhfpq05qWt9kohC9H3ONDid+ocptdI4HGnKzN5KfcNZdg5W0ZH+jTRGKZqvnYPmTDfN3ubc1zdMlLkmflWKOBSrjvS539c32kI3JXDQxLHppo3ufRvtGW9mGpx5bzxDa9lBG1nfxefO9L6xe837Xa6j4rxvrm+k8cxa37oaXW73YUJaPSHTq+SXsw3/EqC0JHLxkKWU7O2R6x3ZJMDwiH4NQ5T0zVw+d/OrRHIAAOBbLAteO+UUtUvYpL5mmG7JF39E+A2+b8iSt+/Rr42IRL3rdctrUNs0gHPzC5qY+BVNPKFPYxmhF8abKdNX6GL66Ps8EYy+DDU3z9a7gGRzhn1Q9GJsI/Vsdg5Hdo5SNjVfO0VhtNJlLc3sFPW739ef4fPZcXuOdFJb2spLHiaq5CSJ6qTmJSgfTzSrm125nOOmYA8pQ6P0CKI2dcV7LOUr60rMAlA/3+T3XufX1ziF/zRdfXGu9ew/5eeTxb5x7OT/+Wc2SHYl+F8AQOMzyPLglqVLPdPMDJ5pafrVRgZK3tTHmMwNQOE0gHPzA3r8Ex30tD5LgomyfI1ucozygWR7eIXe195LN2UoF9XpH1Y7oFQOdlKsCJJKPaVFRjoH2DFhR8t8nieqEwo7RNelrYiORKW8dLby+9vWQ0DXGfZoYZhjI0hsp3PGDLVAdsPUFC2rkykUURyyjJGgiBUAAJTCKZaM8UduDJexXL2YU5LBFQCAl/rX3Eu+Q9cMHaSOq/V5AagpVeKIxEZLvOTdt2A2NdM4vaCjE53XZPi8cOQ+Gn0kxhHQEaRPF7o99HN0JNtMLcuduyTSlFtz00rzU+wyHdH7tLCztspej6O+MyCS0z6fUuxoHTngnLb2riLPbfI5qWHarCNToH6YZzkpccr1Let/g0Yh6w1Z1LuKjQpJTzmXAACgbEyzZGaYcwMAKJ4GHZZ0ti72L4TPLfJ3zlXqa6HRu5JEFiLuY+t9OJumbv3eqiPDeRGMUNLd7mfKehh3HY+Z7nUduwvNGeqXY73If6inj4ZJX9MpfpvmEVp/lyzqcaaz9et1QO5728ZyU936ZtOobw/tofty97obCuxeT1vHnKl6zmeOerbeTuasgVrE/n0C+zdtgpBNBW6YPl0l+5f76xnZulUSAACUm7dZcrIRBoQAqDWmtbe3H2doampKpWPHjtG5556r364N9u7dq48aC4meiJNR6pSymkR2X2MnaWtHD37bpk75oB5d/E9WxPP4dctbjhqWnW2uOwmna+3i5z9FH39gxgyMuAIAImlra6M9e/bosxyyA9rX9YYtMni0rkHl6Zf5GY0euZGf0b9rHACVAhPKQWVQu6/BsalnxKmRBAAAoHzYUhWRGwDKD5ybBsL/Wzt2KmxnOAAAAABUAtuhsX/zBgBQHjAtDQAQC6alYVoaAKAwwqal/Qmnb2l5KtvNfxbT0gAoK4jcAAAAAABUid9rg1+AuQ9A+YFzAwAAAABQJY5bEYwZlqMDACgPcG4AAAAAAKqEHbmxt4UGAJQHODcAAAAAAFXC3lBgOiI3AJQdODcAAAAAAFViyorWnILIDQBlB84NAAAAAECVeMuK1iByA0D5gXMDAAAAAFAl7MgN1twAUH7g3AAAYnlVvwpHMdIIAABFY8vTVxpYnk7oV2FSvwJQDeDcAABiEcV017Rp9CNO3zgJf8BTsBcBT+lXAAAoFHFuNrAs3S7ydMYM52ID8i39jFs47ecEQLWY1t7efpyhqakplY4dO0annnqqfhsAAICw/I036MOvvUY/mTmT/gMyEgAAAKhJ4NwAAAAAAAAAGgCi/wdshuae76UiNAAAAABJRU5ErkJggg==)"
      ],
      "metadata": {
        "id": "mT4DAENUpuhK"
      }
    },
    {
      "cell_type": "code",
      "source": [
        "!cp \"/content/gdrive/My Drive/Wav2Lip/testvid2.mp4\" \"/content/gdrive/My Drive/Wav2Lip/output1.wav\" sample_data/\n",
        "!ls sample_data/"
      ],
      "metadata": {
        "colab": {
          "base_uri": "https://localhost:8080/"
        },
        "id": "JKXMC6uShzQv",
        "outputId": "18886d1a-9588-42d5-a8af-bdcda28ae68a"
      },
      "execution_count": 13,
      "outputs": [
        {
          "output_type": "stream",
          "name": "stdout",
          "text": [
            "anscombe.json\t\t      mnist_test.csv\t     README.md\n",
            "california_housing_test.csv   mnist_train_small.csv  testvid2.mp4\n",
            "california_housing_train.csv  output1.wav\n"
          ]
        }
      ]
    },
    {
      "cell_type": "code",
      "source": [
        "!cd LS_Final && python inference.py --checkpoint_path checkpoints/model.pth --face \"../sample_data/testvid2.mp4\" --audio \"../sample_data/output1.wav\"\n"
      ],
      "metadata": {
        "colab": {
          "base_uri": "https://localhost:8080/"
        },
        "id": "0Zk3BKoph1BP",
        "outputId": "79264e5c-5df7-4eca-8cb1-7580dd44380a"
      },
      "execution_count": 14,
      "outputs": [
        {
          "output_type": "stream",
          "name": "stdout",
          "text": [
            "Using cuda for inference.\n",
            "Reading video frames...\n",
            "Number of frames available for inference: 705\n",
            "/content/LS_Final/audio.py:100: FutureWarning: Pass sr=16000, n_fft=800 as keyword args. From version 0.10 passing these as positional arguments will result in an error\n",
            "  return librosa.filters.mel(hp.sample_rate, hp.n_fft, n_mels=hp.num_mels,\n",
            "(80, 2254)\n",
            "Length of mel chunks: 701\n",
            "  0% 0/6 [00:00<?, ?it/s]\n",
            "  0% 0/44 [00:00<?, ?it/s]\u001b[A\n",
            "  2% 1/44 [00:11<08:34, 11.97s/it]\u001b[A\n",
            "  5% 2/44 [00:14<04:55,  7.04s/it]\u001b[A\n",
            "  7% 3/44 [00:15<03:37,  5.30s/it]\u001b[A\n",
            "  9% 4/44 [00:17<02:57,  4.43s/it]\u001b[A\n",
            " 11% 5/44 [00:19<02:35,  3.99s/it]\u001b[A\n",
            " 14% 6/44 [00:22<02:20,  3.69s/it]\u001b[A\n",
            " 16% 7/44 [00:24<02:08,  3.47s/it]\u001b[A\n",
            " 18% 8/44 [00:26<01:58,  3.30s/it]\u001b[A\n",
            " 20% 9/44 [00:28<01:49,  3.13s/it]\u001b[A\n",
            " 23% 10/44 [00:29<01:41,  3.00s/it]\u001b[A\n",
            " 25% 11/44 [00:31<01:35,  2.89s/it]\u001b[A\n",
            " 27% 12/44 [00:33<01:29,  2.80s/it]\u001b[A\n",
            " 30% 13/44 [00:35<01:24,  2.73s/it]\u001b[A\n",
            " 32% 14/44 [00:37<01:20,  2.69s/it]\u001b[A\n",
            " 34% 15/44 [00:39<01:17,  2.66s/it]\u001b[A\n",
            " 36% 16/44 [00:42<01:13,  2.63s/it]\u001b[A\n",
            " 39% 17/44 [00:44<01:10,  2.60s/it]\u001b[A\n",
            " 41% 18/44 [00:46<01:06,  2.56s/it]\u001b[A\n",
            " 43% 19/44 [00:47<01:02,  2.52s/it]\u001b[A\n",
            " 45% 20/44 [00:49<00:59,  2.48s/it]\u001b[A\n",
            " 48% 21/44 [00:51<00:56,  2.45s/it]\u001b[A\n",
            " 50% 22/44 [00:53<00:53,  2.42s/it]\u001b[A\n",
            " 52% 23/44 [00:55<00:50,  2.40s/it]\u001b[A\n",
            " 55% 24/44 [00:57<00:47,  2.40s/it]\u001b[A\n",
            " 57% 25/44 [00:59<00:45,  2.39s/it]\u001b[A\n",
            " 59% 26/44 [01:01<00:42,  2.38s/it]\u001b[A\n",
            " 61% 27/44 [01:03<00:40,  2.36s/it]\u001b[A\n",
            " 64% 28/44 [01:05<00:37,  2.34s/it]\u001b[A\n",
            " 66% 29/44 [01:07<00:34,  2.32s/it]\u001b[A\n",
            " 68% 30/44 [01:09<00:32,  2.31s/it]\u001b[A\n",
            " 70% 31/44 [01:11<00:29,  2.29s/it]\u001b[A\n",
            " 73% 32/44 [01:13<00:27,  2.28s/it]\u001b[A\n",
            " 75% 33/44 [01:15<00:25,  2.28s/it]\u001b[A\n",
            " 77% 34/44 [01:17<00:22,  2.28s/it]\u001b[A\n",
            " 80% 35/44 [01:19<00:20,  2.28s/it]\u001b[A\n",
            " 82% 36/44 [01:21<00:18,  2.27s/it]\u001b[A\n",
            " 84% 37/44 [01:23<00:15,  2.26s/it]\u001b[A\n",
            " 86% 38/44 [01:25<00:13,  2.25s/it]\u001b[A\n",
            " 89% 39/44 [01:27<00:11,  2.24s/it]\u001b[A\n",
            " 91% 40/44 [01:29<00:08,  2.23s/it]\u001b[A\n",
            " 93% 41/44 [01:31<00:06,  2.22s/it]\u001b[A\n",
            " 95% 42/44 [01:33<00:04,  2.22s/it]\u001b[A\n",
            " 98% 43/44 [01:35<00:02,  2.22s/it]\u001b[A\n",
            "100% 44/44 [01:46<00:00,  2.42s/it]\u001b[A\n",
            "\u001b[ALoad checkpoint from: checkpoints/model.pth\n",
            "Model loaded\n",
            "100% 6/6 [02:01<00:00, 20.24s/it]\n",
            "ffmpeg version 4.4.2-0ubuntu0.22.04.1 Copyright (c) 2000-2021 the FFmpeg developers\n",
            "  built with gcc 11 (Ubuntu 11.2.0-19ubuntu1)\n",
            "  configuration: --prefix=/usr --extra-version=0ubuntu0.22.04.1 --toolchain=hardened --libdir=/usr/lib/x86_64-linux-gnu --incdir=/usr/include/x86_64-linux-gnu --arch=amd64 --enable-gpl --disable-stripping --enable-gnutls --enable-ladspa --enable-libaom --enable-libass --enable-libbluray --enable-libbs2b --enable-libcaca --enable-libcdio --enable-libcodec2 --enable-libdav1d --enable-libflite --enable-libfontconfig --enable-libfreetype --enable-libfribidi --enable-libgme --enable-libgsm --enable-libjack --enable-libmp3lame --enable-libmysofa --enable-libopenjpeg --enable-libopenmpt --enable-libopus --enable-libpulse --enable-librabbitmq --enable-librubberband --enable-libshine --enable-libsnappy --enable-libsoxr --enable-libspeex --enable-libsrt --enable-libssh --enable-libtheora --enable-libtwolame --enable-libvidstab --enable-libvorbis --enable-libvpx --enable-libwebp --enable-libx265 --enable-libxml2 --enable-libxvid --enable-libzimg --enable-libzmq --enable-libzvbi --enable-lv2 --enable-omx --enable-openal --enable-opencl --enable-opengl --enable-sdl2 --enable-pocketsphinx --enable-librsvg --enable-libmfx --enable-libdc1394 --enable-libdrm --enable-libiec61883 --enable-chromaprint --enable-frei0r --enable-libx264 --enable-shared\n",
            "  libavutil      56. 70.100 / 56. 70.100\n",
            "  libavcodec     58.134.100 / 58.134.100\n",
            "  libavformat    58. 76.100 / 58. 76.100\n",
            "  libavdevice    58. 13.100 / 58. 13.100\n",
            "  libavfilter     7.110.100 /  7.110.100\n",
            "  libswscale      5.  9.100 /  5.  9.100\n",
            "  libswresample   3.  9.100 /  3.  9.100\n",
            "  libpostproc    55.  9.100 / 55.  9.100\n",
            "\u001b[0;33mGuessed Channel Layout for Input Stream #0.0 : mono\n",
            "\u001b[0mInput #0, wav, from '../sample_data/output1.wav':\n",
            "  Duration: 00:00:28.16, bitrate: 705 kb/s\n",
            "  Stream #0:0: Audio: pcm_s16le ([1][0][0][0] / 0x0001), 44100 Hz, mono, s16, 705 kb/s\n",
            "Input #1, avi, from 'temp/result.avi':\n",
            "  Metadata:\n",
            "    software        : Lavf59.27.100\n",
            "  Duration: 00:00:28.04, start: 0.000000, bitrate: 2005 kb/s\n",
            "  Stream #1:0: Video: mpeg4 (Simple Profile) (DIVX / 0x58564944), yuv420p, 1280x640 [SAR 1:1 DAR 2:1], 2002 kb/s, 25 fps, 25 tbr, 25 tbn, 25 tbc\n",
            "Stream mapping:\n",
            "  Stream #1:0 -> #0:0 (mpeg4 (native) -> h264 (libx264))\n",
            "  Stream #0:0 -> #0:1 (pcm_s16le (native) -> aac (native))\n",
            "Press [q] to stop, [?] for help\n",
            "\u001b[1;36m[libx264 @ 0x5b72e2b61d00] \u001b[0m\u001b[0;33m-qscale is ignored, -crf is recommended.\n",
            "\u001b[0m\u001b[1;36m[libx264 @ 0x5b72e2b61d00] \u001b[0musing SAR=1/1\n",
            "\u001b[1;36m[libx264 @ 0x5b72e2b61d00] \u001b[0musing cpu capabilities: MMX2 SSE2Fast SSSE3 SSE4.2 AVX FMA3 BMI2 AVX2 AVX512\n",
            "\u001b[1;36m[libx264 @ 0x5b72e2b61d00] \u001b[0mprofile High, level 3.1, 4:2:0, 8-bit\n",
            "\u001b[1;36m[libx264 @ 0x5b72e2b61d00] \u001b[0m264 - core 163 r3060 5db6aa6 - H.264/MPEG-4 AVC codec - Copyleft 2003-2021 - http://www.videolan.org/x264.html - options: cabac=1 ref=3 deblock=1:0:0 analyse=0x3:0x113 me=hex subme=7 psy=1 psy_rd=1.00:0.00 mixed_ref=1 me_range=16 chroma_me=1 trellis=1 8x8dct=1 cqm=0 deadzone=21,11 fast_pskip=1 chroma_qp_offset=-2 threads=3 lookahead_threads=1 sliced_threads=0 nr=0 decimate=1 interlaced=0 bluray_compat=0 constrained_intra=0 bframes=3 b_pyramid=2 b_adapt=1 b_bias=0 direct=1 weightb=1 open_gop=0 weightp=2 keyint=250 keyint_min=25 scenecut=40 intra_refresh=0 rc_lookahead=40 rc=crf mbtree=1 crf=23.0 qcomp=0.60 qpmin=0 qpmax=69 qpstep=4 ip_ratio=1.40 aq=1:1.00\n",
            "Output #0, mp4, to 'results/result_voice.mp4':\n",
            "  Metadata:\n",
            "    encoder         : Lavf58.76.100\n",
            "  Stream #0:0: Video: h264 (avc1 / 0x31637661), yuv420p(progressive), 1280x640 [SAR 1:1 DAR 2:1], q=2-31, 25 fps, 12800 tbn\n",
            "    Metadata:\n",
            "      encoder         : Lavc58.134.100 libx264\n",
            "    Side data:\n",
            "      cpb: bitrate max/min/avg: 0/0/0 buffer size: 0 vbv_delay: N/A\n",
            "  Stream #0:1: Audio: aac (LC) (mp4a / 0x6134706D), 44100 Hz, mono, fltp, 69 kb/s\n",
            "    Metadata:\n",
            "      encoder         : Lavc58.134.100 aac\n",
            "frame=  701 fps= 27 q=-1.0 Lsize=    3385kB time=00:00:28.14 bitrate= 985.3kbits/s speed=1.09x    \n",
            "video:3123kB audio:239kB subtitle:0kB other streams:0kB global headers:0kB muxing overhead: 0.676105%\n",
            "\u001b[1;36m[libx264 @ 0x5b72e2b61d00] \u001b[0mframe I:3     Avg QP:16.48  size: 23091\n",
            "\u001b[1;36m[libx264 @ 0x5b72e2b61d00] \u001b[0mframe P:384   Avg QP:20.67  size:  6218\n",
            "\u001b[1;36m[libx264 @ 0x5b72e2b61d00] \u001b[0mframe B:314   Avg QP:24.61  size:  2358\n",
            "\u001b[1;36m[libx264 @ 0x5b72e2b61d00] \u001b[0mconsecutive B-frames: 36.1%  8.3% 12.8% 42.8%\n",
            "\u001b[1;36m[libx264 @ 0x5b72e2b61d00] \u001b[0mmb I  I16..4: 28.6% 66.7%  4.6%\n",
            "\u001b[1;36m[libx264 @ 0x5b72e2b61d00] \u001b[0mmb P  I16..4:  1.5%  6.8%  0.2%  P16..4: 23.5%  6.6%  2.6%  0.0%  0.0%    skip:58.7%\n",
            "\u001b[1;36m[libx264 @ 0x5b72e2b61d00] \u001b[0mmb B  I16..4:  0.3%  1.6%  0.0%  B16..8: 26.8%  2.4%  0.3%  direct: 0.9%  skip:67.6%  L0:50.0% L1:45.9% BI: 4.1%\n",
            "\u001b[1;36m[libx264 @ 0x5b72e2b61d00] \u001b[0m8x8 transform intra:79.0% inter:79.0%\n",
            "\u001b[1;36m[libx264 @ 0x5b72e2b61d00] \u001b[0mcoded y,uvDC,uvAC intra: 28.9% 29.6% 5.3% inter: 5.9% 4.7% 0.0%\n",
            "\u001b[1;36m[libx264 @ 0x5b72e2b61d00] \u001b[0mi16 v,h,dc,p: 47% 21% 20% 12%\n",
            "\u001b[1;36m[libx264 @ 0x5b72e2b61d00] \u001b[0mi8 v,h,dc,ddl,ddr,vr,hd,vl,hu: 26% 16% 47%  2%  2%  2%  2%  2%  2%\n",
            "\u001b[1;36m[libx264 @ 0x5b72e2b61d00] \u001b[0mi4 v,h,dc,ddl,ddr,vr,hd,vl,hu: 31% 19% 16%  4%  8%  8%  7%  4%  3%\n",
            "\u001b[1;36m[libx264 @ 0x5b72e2b61d00] \u001b[0mi8c dc,h,v,p: 59% 18% 21%  2%\n",
            "\u001b[1;36m[libx264 @ 0x5b72e2b61d00] \u001b[0mWeighted P-Frames: Y:0.0% UV:0.0%\n",
            "\u001b[1;36m[libx264 @ 0x5b72e2b61d00] \u001b[0mref P L0: 71.7% 11.2% 12.4%  4.7%\n",
            "\u001b[1;36m[libx264 @ 0x5b72e2b61d00] \u001b[0mref B L0: 86.1% 11.0%  2.9%\n",
            "\u001b[1;36m[libx264 @ 0x5b72e2b61d00] \u001b[0mref B L1: 97.1%  2.9%\n",
            "\u001b[1;36m[libx264 @ 0x5b72e2b61d00] \u001b[0mkb/s:912.27\n",
            "\u001b[1;36m[aac @ 0x5b72e2b63e40] \u001b[0mQavg: 114.796\n"
          ]
        }
      ]
    }
  ]
}