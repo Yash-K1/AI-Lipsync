{
  "nbformat": 4,
  "nbformat_minor": 0,
  "metadata": {
    "colab": {
      "provenance": [],
      "gpuType": "T4",
      "authorship_tag": "ABX9TyMGgK9/xFt5XFl7akOAisWl",
      "include_colab_link": true
    },
    "kernelspec": {
      "name": "python3",
      "display_name": "Python 3"
    },
    "language_info": {
      "name": "python"
    },
    "accelerator": "GPU"
  },
  "cells": [
    {
      "cell_type": "markdown",
      "metadata": {
        "id": "view-in-github",
        "colab_type": "text"
      },
      "source": [
        "<a href=\"https://colab.research.google.com/github/Yash-K1/LS_Final/blob/main/test1.ipynb\" target=\"_parent\"><img src=\"https://colab.research.google.com/assets/colab-badge.svg\" alt=\"Open In Colab\"/></a>"
      ]
    },
    {
      "cell_type": "code",
      "execution_count": 25,
      "metadata": {
        "id": "L3zz8AKJR6jj",
        "colab": {
          "base_uri": "https://localhost:8080/"
        },
        "outputId": "c820cd35-2644-423f-a976-6fbdcb9edc64"
      },
      "outputs": [
        {
          "output_type": "stream",
          "name": "stdout",
          "text": [
            "Reading package lists... Done\n",
            "Building dependency tree... Done\n",
            "Reading state information... Done\n",
            "python3.8 is already the newest version (3.8.17-1+jammy1).\n",
            "0 upgraded, 0 newly installed, 0 to remove and 8 not upgraded.\n"
          ]
        }
      ],
      "source": [
        "!sudo apt-get install python3.8"
      ]
    },
    {
      "cell_type": "code",
      "source": [
        "import sys\n",
        "\n",
        "# Check the current Python version\n",
        "current_version = sys.version_info\n",
        "\n",
        "# Set the Python version to 3.8\n",
        "sys.version_info = (3, 8, 0, 'final', 0)\n",
        "\n",
        "# Print the new Python version\n",
        "print(sys.version_info)"
      ],
      "metadata": {
        "colab": {
          "base_uri": "https://localhost:8080/"
        },
        "id": "Mbj6j6a4aqGG",
        "outputId": "12455625-f7e2-4348-8db4-9ef563923e67"
      },
      "execution_count": 26,
      "outputs": [
        {
          "output_type": "stream",
          "name": "stdout",
          "text": [
            "(3, 8, 0, 'final', 0)\n"
          ]
        }
      ]
    },
    {
      "cell_type": "code",
      "source": [
        "!sudo update-alternatives --install /usr/bin/python3 python3 /usr/bin/python3.8 1"
      ],
      "metadata": {
        "id": "SIIraRhUasGa"
      },
      "execution_count": 27,
      "outputs": []
    },
    {
      "cell_type": "code",
      "source": [
        "!python --version"
      ],
      "metadata": {
        "colab": {
          "base_uri": "https://localhost:8080/"
        },
        "id": "X2O5tBQlavmy",
        "outputId": "10d6ec14-3652-4ac1-c1fa-b3d149e1fe8d"
      },
      "execution_count": 28,
      "outputs": [
        {
          "output_type": "stream",
          "name": "stdout",
          "text": [
            "Python 3.8.17\n"
          ]
        }
      ]
    },
    {
      "cell_type": "code",
      "source": [
        "!apt-get install python3-pip"
      ],
      "metadata": {
        "colab": {
          "base_uri": "https://localhost:8080/"
        },
        "id": "5rmm_a-OavhO",
        "outputId": "5443f52a-7088-459a-bdfe-54e69ae6b635"
      },
      "execution_count": 29,
      "outputs": [
        {
          "output_type": "stream",
          "name": "stdout",
          "text": [
            "Reading package lists... Done\n",
            "Building dependency tree... Done\n",
            "Reading state information... Done\n",
            "python3-pip is already the newest version (22.0.2+dfsg-1ubuntu0.3).\n",
            "0 upgraded, 0 newly installed, 0 to remove and 8 not upgraded.\n"
          ]
        }
      ]
    },
    {
      "cell_type": "code",
      "source": [
        "!sudo apt-get install python3.8-distutils"
      ],
      "metadata": {
        "colab": {
          "base_uri": "https://localhost:8080/"
        },
        "id": "E2plck36a11L",
        "outputId": "0461bfeb-558f-4f5c-ed27-a05c14e3fcfa"
      },
      "execution_count": 30,
      "outputs": [
        {
          "output_type": "stream",
          "name": "stdout",
          "text": [
            "Reading package lists... Done\n",
            "Building dependency tree... Done\n",
            "Reading state information... Done\n",
            "python3.8-distutils is already the newest version (3.8.17-1+jammy1).\n",
            "0 upgraded, 0 newly installed, 0 to remove and 8 not upgraded.\n"
          ]
        }
      ]
    },
    {
      "cell_type": "code",
      "source": [
        "!pip uninstall tensorflow tensorflow-gpu"
      ],
      "metadata": {
        "colab": {
          "base_uri": "https://localhost:8080/"
        },
        "id": "Tg7nw1v6a2iF",
        "outputId": "9fd66a1f-159e-456f-cd14-6b6d841a4f1f"
      },
      "execution_count": 31,
      "outputs": [
        {
          "output_type": "stream",
          "name": "stdout",
          "text": [
            "\u001b[33mWARNING: Skipping tensorflow as it is not installed.\u001b[0m\u001b[33m\n",
            "\u001b[0m\u001b[33mWARNING: Skipping tensorflow-gpu as it is not installed.\u001b[0m\u001b[33m\n",
            "\u001b[0m\u001b[33mWARNING: Running pip as the 'root' user can result in broken permissions and conflicting behaviour with the system package manager. It is recommended to use a virtual environment instead: https://pip.pypa.io/warnings/venv\u001b[0m\u001b[33m\n",
            "\u001b[0m"
          ]
        }
      ]
    },
    {
      "cell_type": "code",
      "source": [
        "!git clone https://github.com/Yash-K1/LS_Final"
      ],
      "metadata": {
        "colab": {
          "base_uri": "https://localhost:8080/"
        },
        "id": "wbWdSZxfbAiP",
        "outputId": "7c91e3f1-5c4a-4ae2-c184-b0319d806448"
      },
      "execution_count": 32,
      "outputs": [
        {
          "output_type": "stream",
          "name": "stdout",
          "text": [
            "fatal: destination path 'LS_Final' already exists and is not an empty directory.\n"
          ]
        }
      ]
    },
    {
      "cell_type": "code",
      "source": [
        "!cd LS_Final && pip install -r requirements.txt"
      ],
      "metadata": {
        "colab": {
          "base_uri": "https://localhost:8080/"
        },
        "id": "wOb9SrBJbKEG",
        "outputId": "2bc6f21e-45b9-4be0-f9a4-3d9f8265cc74"
      },
      "execution_count": 33,
      "outputs": [
        {
          "output_type": "stream",
          "name": "stdout",
          "text": [
            "Requirement already satisfied: numpy==1.21.6 in /usr/local/lib/python3.8/dist-packages (from -r requirements.txt (line 1)) (1.21.6)\n",
            "Requirement already satisfied: opencv-contrib-python>=4.2.0.34 in /usr/local/lib/python3.8/dist-packages (from -r requirements.txt (line 2)) (4.8.0.74)\n",
            "Requirement already satisfied: opencv-python==3.4.18.65 in /usr/local/lib/python3.8/dist-packages (from -r requirements.txt (line 3)) (3.4.18.65)\n",
            "Requirement already satisfied: torch==1.4.0 in /usr/local/lib/python3.8/dist-packages (from -r requirements.txt (line 4)) (1.4.0)\n",
            "Requirement already satisfied: torchvision==0.2.2 in /usr/local/lib/python3.8/dist-packages (from -r requirements.txt (line 5)) (0.2.2)\n",
            "Requirement already satisfied: tqdm==4.19.9 in /usr/local/lib/python3.8/dist-packages (from -r requirements.txt (line 6)) (4.19.9)\n",
            "Requirement already satisfied: numba==0.55 in /usr/local/lib/python3.8/dist-packages (from -r requirements.txt (line 7)) (0.55.0)\n",
            "Requirement already satisfied: librosa==0.8.1 in /usr/local/lib/python3.8/dist-packages (from -r requirements.txt (line 8)) (0.8.1)\n",
            "Requirement already satisfied: resampy==0.3.1 in /usr/local/lib/python3.8/dist-packages (from -r requirements.txt (line 9)) (0.3.1)\n",
            "Requirement already satisfied: six in /usr/lib/python3/dist-packages (from torchvision==0.2.2->-r requirements.txt (line 5)) (1.16.0)\n",
            "Requirement already satisfied: pillow>=4.1.1 in /usr/local/lib/python3.8/dist-packages (from torchvision==0.2.2->-r requirements.txt (line 5)) (10.0.0)\n",
            "Requirement already satisfied: setuptools in /usr/lib/python3/dist-packages (from numba==0.55->-r requirements.txt (line 7)) (59.6.0)\n",
            "Requirement already satisfied: llvmlite<0.39,>=0.38.0rc1 in /usr/local/lib/python3.8/dist-packages (from numba==0.55->-r requirements.txt (line 7)) (0.38.1)\n",
            "Requirement already satisfied: packaging>=20.0 in /usr/local/lib/python3.8/dist-packages (from librosa==0.8.1->-r requirements.txt (line 8)) (23.1)\n",
            "Requirement already satisfied: scipy>=1.0.0 in /usr/local/lib/python3.8/dist-packages (from librosa==0.8.1->-r requirements.txt (line 8)) (1.10.1)\n",
            "Requirement already satisfied: pooch>=1.0 in /usr/local/lib/python3.8/dist-packages (from librosa==0.8.1->-r requirements.txt (line 8)) (1.7.0)\n",
            "Requirement already satisfied: soundfile>=0.10.2 in /usr/local/lib/python3.8/dist-packages (from librosa==0.8.1->-r requirements.txt (line 8)) (0.12.1)\n",
            "Requirement already satisfied: scikit-learn!=0.19.0,>=0.14.0 in /usr/local/lib/python3.8/dist-packages (from librosa==0.8.1->-r requirements.txt (line 8)) (1.3.0)\n",
            "Requirement already satisfied: decorator>=3.0.0 in /usr/local/lib/python3.8/dist-packages (from librosa==0.8.1->-r requirements.txt (line 8)) (5.1.1)\n",
            "Requirement already satisfied: audioread>=2.0.0 in /usr/local/lib/python3.8/dist-packages (from librosa==0.8.1->-r requirements.txt (line 8)) (3.0.0)\n",
            "Requirement already satisfied: joblib>=0.14 in /usr/local/lib/python3.8/dist-packages (from librosa==0.8.1->-r requirements.txt (line 8)) (1.3.1)\n",
            "Requirement already satisfied: platformdirs>=2.5.0 in /usr/local/lib/python3.8/dist-packages (from pooch>=1.0->librosa==0.8.1->-r requirements.txt (line 8)) (3.9.1)\n",
            "Requirement already satisfied: requests>=2.19.0 in /usr/local/lib/python3.8/dist-packages (from pooch>=1.0->librosa==0.8.1->-r requirements.txt (line 8)) (2.31.0)\n",
            "Requirement already satisfied: threadpoolctl>=2.0.0 in /usr/local/lib/python3.8/dist-packages (from scikit-learn!=0.19.0,>=0.14.0->librosa==0.8.1->-r requirements.txt (line 8)) (3.2.0)\n",
            "Requirement already satisfied: cffi>=1.0 in /usr/local/lib/python3.8/dist-packages (from soundfile>=0.10.2->librosa==0.8.1->-r requirements.txt (line 8)) (1.15.1)\n",
            "Requirement already satisfied: pycparser in /usr/local/lib/python3.8/dist-packages (from cffi>=1.0->soundfile>=0.10.2->librosa==0.8.1->-r requirements.txt (line 8)) (2.21)\n",
            "Requirement already satisfied: urllib3<3,>=1.21.1 in /usr/local/lib/python3.8/dist-packages (from requests>=2.19.0->pooch>=1.0->librosa==0.8.1->-r requirements.txt (line 8)) (2.0.4)\n",
            "Requirement already satisfied: charset-normalizer<4,>=2 in /usr/local/lib/python3.8/dist-packages (from requests>=2.19.0->pooch>=1.0->librosa==0.8.1->-r requirements.txt (line 8)) (3.2.0)\n",
            "Requirement already satisfied: certifi>=2017.4.17 in /usr/local/lib/python3.8/dist-packages (from requests>=2.19.0->pooch>=1.0->librosa==0.8.1->-r requirements.txt (line 8)) (2023.5.7)\n",
            "Requirement already satisfied: idna<4,>=2.5 in /usr/local/lib/python3.8/dist-packages (from requests>=2.19.0->pooch>=1.0->librosa==0.8.1->-r requirements.txt (line 8)) (3.4)\n",
            "\u001b[33mWARNING: Running pip as the 'root' user can result in broken permissions and conflicting behaviour with the system package manager. It is recommended to use a virtual environment instead: https://pip.pypa.io/warnings/venv\u001b[0m\u001b[33m\n",
            "\u001b[0m"
          ]
        }
      ]
    },
    {
      "cell_type": "code",
      "source": [
        "from google.colab import drive\n",
        "drive.mount('/content/gdrive')"
      ],
      "metadata": {
        "colab": {
          "base_uri": "https://localhost:8080/"
        },
        "id": "vAmYxRm1gwWs",
        "outputId": "d9ed6ea7-539f-4230-c535-b45247bac77d"
      },
      "execution_count": 34,
      "outputs": [
        {
          "output_type": "stream",
          "name": "stdout",
          "text": [
            "Drive already mounted at /content/gdrive; to attempt to forcibly remount, call drive.mount(\"/content/gdrive\", force_remount=True).\n"
          ]
        }
      ]
    },
    {
      "cell_type": "code",
      "source": [
        "print(\"Wav2Lip:\")\n",
        "!ls /content/gdrive/MyDrive/Wav2Lip"
      ],
      "metadata": {
        "colab": {
          "base_uri": "https://localhost:8080/"
        },
        "id": "nUV-4DwhhgBU",
        "outputId": "3a34a706-9bcd-4590-8caa-d44364bb4098"
      },
      "execution_count": 35,
      "outputs": [
        {
          "output_type": "stream",
          "name": "stdout",
          "text": [
            "Wav2Lip:\n",
            "'1 min lipsync.mp4'   output10.wav   testvid2.mp4\n",
            " 1min.mp4\t      output1.wav    testvid.mp4\n"
          ]
        }
      ]
    },
    {
      "cell_type": "code",
      "source": [
        "import librosa\n",
        "\n",
        "def mel(sample_rate, n_fft, n_mels):\n",
        "  \"\"\"Computes mel-spectrogram from audio.\"\"\"\n",
        "  return librosa.filters.mel(sample_rate, n_fft, n_mels=n_mels)\n",
        "\n"
      ],
      "metadata": {
        "id": "IUVYoiJPjhm3"
      },
      "execution_count": 37,
      "outputs": []
    },
    {
      "cell_type": "code",
      "source": [
        "!wget \"https://www.adrianbulat.com/downloads/python-fan/s3fd-619a316812.pth\" -O \"LS_Final/face_detection/detection/sfd/s3fd.pth\"\n"
      ],
      "metadata": {
        "colab": {
          "base_uri": "https://localhost:8080/"
        },
        "id": "4uyVaGbyhmuk",
        "outputId": "13ee560c-72bd-4989-bfcd-c39dbdd7ccde"
      },
      "execution_count": 36,
      "outputs": [
        {
          "output_type": "stream",
          "name": "stdout",
          "text": [
            "--2023-07-21 09:26:09--  https://www.adrianbulat.com/downloads/python-fan/s3fd-619a316812.pth\n",
            "Resolving www.adrianbulat.com (www.adrianbulat.com)... 45.136.29.207\n",
            "Connecting to www.adrianbulat.com (www.adrianbulat.com)|45.136.29.207|:443... connected.\n",
            "HTTP request sent, awaiting response... 200 OK\n",
            "Length: 89843225 (86M) [application/octet-stream]\n",
            "Saving to: ‘LS_Final/face_detection/detection/sfd/s3fd.pth’\n",
            "\n",
            "LS_Final/face_detec 100%[===================>]  85.68M  21.5MB/s    in 4.0s    \n",
            "\n",
            "2023-07-21 09:26:14 (21.5 MB/s) - ‘LS_Final/face_detection/detection/sfd/s3fd.pth’ saved [89843225/89843225]\n",
            "\n"
          ]
        }
      ]
    },
    {
      "cell_type": "code",
      "source": [
        "!cp \"/content/gdrive/My Drive/Wav2Lip/testvid2.mp4\" \"/content/gdrive/My Drive/Wav2Lip/output1.wav\" sample_data/\n",
        "!ls sample_data/"
      ],
      "metadata": {
        "colab": {
          "base_uri": "https://localhost:8080/"
        },
        "id": "JKXMC6uShzQv",
        "outputId": "c54c1039-64e1-43da-e955-4940959868d1"
      },
      "execution_count": 38,
      "outputs": [
        {
          "output_type": "stream",
          "name": "stdout",
          "text": [
            "anscombe.json\t\t      mnist_test.csv\t     README.md\n",
            "california_housing_test.csv   mnist_train_small.csv  testvid2.mp4\n",
            "california_housing_train.csv  output1.wav\n"
          ]
        }
      ]
    },
    {
      "cell_type": "code",
      "source": [
        "!cd LS_Final && python inference.py --checkpoint_path checkpoints/wav2lip_gan.pth --face \"../sample_data/testvid2.mp4\" --audio \"../sample_data/output1.wav\"\n"
      ],
      "metadata": {
        "colab": {
          "base_uri": "https://localhost:8080/"
        },
        "id": "0Zk3BKoph1BP",
        "outputId": "33bf8a42-f981-48da-9f24-654ab2128b0c"
      },
      "execution_count": 40,
      "outputs": [
        {
          "output_type": "stream",
          "name": "stdout",
          "text": [
            "Using cpu for inference.\n",
            "Reading video frames...\n",
            "Number of frames available for inference: 705\n",
            "(80, 2254)\n",
            "Length of mel chunks: 701\n",
            "  0% 0/11 [00:00<?, ?it/s]\n",
            "  0% 0/88 [00:00<?, ?it/s]\u001b[A\n",
            "  1% 1/88 [02:04<3:00:21, 124.38s/it]\u001b[A^C\n"
          ]
        }
      ]
    }
  ]
}